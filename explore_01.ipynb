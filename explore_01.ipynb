{
 "cells": [
  {
   "cell_type": "code",
   "execution_count": 17,
   "metadata": {},
   "outputs": [],
   "source": [
    "import torch\n",
    "\n",
    "device = torch.device(\"cuda\")"
   ]
  },
  {
   "cell_type": "code",
   "execution_count": 18,
   "metadata": {},
   "outputs": [],
   "source": [
    "from spuco.utils import set_seed\n",
    "\n",
    "set_seed(0)"
   ]
  },
  {
   "cell_type": "code",
   "execution_count": 19,
   "metadata": {},
   "outputs": [
    {
     "name": "stderr",
     "output_type": "stream",
     "text": [
      "100%|██████████| 48004/48004 [00:05<00:00, 9511.94it/s]\n",
      "100%|██████████| 10000/10000 [00:00<00:00, 10191.57it/s]\n",
      "100%|██████████| 11996/11996 [00:01<00:00, 10320.57it/s]\n"
     ]
    }
   ],
   "source": [
    "from spuco.robust_train import ERM\n",
    "from spuco.datasets import SpuCoMNIST, SpuriousFeatureDifficulty\n",
    "import torchvision.transforms as T\n",
    "\n",
    "classes = [[0, 1], [2, 3], [4, 5], [6, 7], [8, 9]]\n",
    "difficulty = SpuriousFeatureDifficulty.MAGNITUDE_LARGE\n",
    "root = \"data/mnist/\"\n",
    "\n",
    "trainset = SpuCoMNIST(\n",
    "    root=root,\n",
    "    spurious_feature_difficulty=difficulty,\n",
    "    spurious_correlation_strength=0.95,\n",
    "    classes=classes,\n",
    "    split=\"train\",\n",
    "    label_noise=0.001\n",
    ")\n",
    "trainset.initialize()\n",
    "\n",
    "testset = SpuCoMNIST(\n",
    "    root=root,\n",
    "    spurious_feature_difficulty=difficulty,\n",
    "    classes=classes,\n",
    "    split=\"test\"\n",
    ")\n",
    "testset.initialize()\n",
    "\n",
    "from spuco.datasets import SpuCoMNIST, SpuriousFeatureDifficulty\n",
    "\n",
    "classes = [[0, 1], [2, 3], [4, 5], [6, 7], [8, 9]]\n",
    "\n",
    "valset = SpuCoMNIST(\n",
    "    root=root,\n",
    "    spurious_feature_difficulty=difficulty,\n",
    "    classes=classes,\n",
    "    split=\"val\"\n",
    ")\n",
    "valset.initialize()\n",
    "\n"
   ]
  },
  {
   "cell_type": "code",
   "execution_count": 20,
   "metadata": {},
   "outputs": [
    {
     "name": "stdout",
     "output_type": "stream",
     "text": [
      "Epoch 1/5, Train Acc: 0.9508, Test Acc: 0.2309\n",
      "Epoch 2/5, Train Acc: 0.9524, Test Acc: 0.2683\n",
      "Epoch 3/5, Train Acc: 0.9533, Test Acc: 0.2742\n",
      "Epoch 4/5, Train Acc: 0.9566, Test Acc: 0.3309\n",
      "Epoch 5/5, Train Acc: 0.9574, Test Acc: 0.3469\n"
     ]
    }
   ],
   "source": [
    "import torch\n",
    "import torch.nn as nn\n",
    "import torch.optim as optim\n",
    "from torch.utils.data import Subset, DataLoader\n",
    "from spuco.robust_train import ERM\n",
    "from spuco.datasets import SpuCoMNIST, SpuriousFeatureDifficulty\n",
    "import torchvision.transforms as T\n",
    "import numpy as np\n",
    "from spuco.models import model_factory\n",
    "\n",
    "\n",
    "train_loader = DataLoader(trainset, batch_size=64, shuffle=True)\n",
    "not_shuffle_train_loader = DataLoader(trainset, batch_size=64, shuffle=False)\n",
    "test_loader = DataLoader(testset, batch_size=64, shuffle=False)\n",
    "\n",
    "# model = model_factory(\"lenet\", trainset[0][0].shape, trainset.num_classes).to(device)\n",
    "model = model_factory(\"mlp\", trainset[0][0].shape, trainset.num_classes).to(device)\n",
    "\n",
    "from spuco.evaluate import Evaluator\n",
    "\n",
    "# Initialize the model and optimizer\n",
    "# optimizer = optim.Adam(model.parameters(), lr=0.001)\n",
    "optimizer = optim.SGD(model.parameters(), lr=1e-2, momentum=0.9, nesterov=False)\n",
    "\n",
    "# Training loop\n",
    "device = torch.device(\"cuda\" if torch.cuda.is_available() else \"cpu\")\n",
    "model.to(device)\n",
    "criterion = nn.CrossEntropyLoss()\n",
    "num_epochs = 5\n",
    "# train_predictions_history = [[] for _ in range(len(trainset))]\n",
    "# test_predictions_history = [[] for _ in range(len(testset))]\n",
    "train_acc_history_lst = []\n",
    "test_acc_history_lst = []\n",
    "\n",
    "# Training function\n",
    "def train(model, train_loader, optimizer, criterion, device):\n",
    "    model.train()\n",
    "    for batch_idx, (data, target) in enumerate(train_loader):\n",
    "        data, target = data.to(device), target.to(device)\n",
    "        optimizer.zero_grad()\n",
    "        output = model(data)\n",
    "        loss = criterion(output, target)\n",
    "        loss.backward()\n",
    "        optimizer.step()\n",
    "\n",
    "# Evaluation function\n",
    "def evaluate(model, data_loader, criterion, device):\n",
    "    model.eval()\n",
    "    correct = 0\n",
    "    total = 0\n",
    "    predictions = []\n",
    "    acc_history = []\n",
    "    with torch.no_grad():\n",
    "        for data, target in data_loader:\n",
    "            data, target = data.to(device), target.to(device)\n",
    "            output = model(data)\n",
    "            _, predicted = torch.max(output.data, 1)\n",
    "            total += target.size(0)\n",
    "            correct += (predicted == target).sum().item()\n",
    "            acc_history.extend((predicted == target).cpu().numpy())\n",
    "            predictions.extend(predicted.cpu().numpy())\n",
    "    return correct / total, acc_history\n",
    "\n",
    "# Calculate forgetability scores\n",
    "def calculate_forgetability(predictions_history):\n",
    "    forgetability_scores = []\n",
    "    for sample_predictions in predictions_history:\n",
    "        correct_to_incorrect = 0\n",
    "        for i in range(1, len(sample_predictions)):\n",
    "            if sample_predictions[i-1] == 1 and sample_predictions[i] == 0:\n",
    "                correct_to_incorrect += 1\n",
    "\n",
    "        if sum(sample_predictions) == 0:\n",
    "            correct_to_incorrect = (num_epochs // 2) + 1\n",
    "        forgetability_scores.append(correct_to_incorrect)\n",
    "    return forgetability_scores\n",
    "\n",
    "\n",
    "\n",
    "for epoch in range(num_epochs):\n",
    "    train(model, train_loader, optimizer, criterion, device)\n",
    "    train_acc, train_acc_history = evaluate(model, not_shuffle_train_loader, criterion, device)\n",
    "    test_acc, test_acc_history = evaluate(model, test_loader, criterion, device)\n",
    "\n",
    "    print(f\"Epoch {epoch+1}/{num_epochs}, Train Acc: {train_acc:.4f}, Test Acc: {test_acc:.4f}\")\n",
    "\n",
    "    train_acc_history_lst.append(train_acc_history)\n",
    "    test_acc_history_lst.append(test_acc_history)\n"
   ]
  },
  {
   "cell_type": "code",
   "execution_count": 21,
   "metadata": {},
   "outputs": [],
   "source": [
    "train_acc_history_lst = np.array(train_acc_history_lst).T\n",
    "train_forgetability_scores = calculate_forgetability(train_acc_history_lst)\n"
   ]
  },
  {
   "cell_type": "code",
   "execution_count": 23,
   "metadata": {},
   "outputs": [
    {
     "name": "stdout",
     "output_type": "stream",
     "text": [
      "Trainset accuracy for each group\n",
      "(2, 2) 0.9999 0.9998 0.9989 0.9986 0.9981 \n",
      "(0, 0) 0.9990 0.9943 0.9993 0.9985 0.9960 \n",
      "(4, 4) 1.0000 1.0000 1.0000 0.9999 0.9997 \n",
      "(1, 1) 1.0000 1.0000 0.9998 0.9971 1.0000 \n",
      "(3, 3) 1.0000 0.9997 0.9990 0.9988 0.9991 \n",
      "(0, 3) 0.0000 0.1127 0.0141 0.2042 0.3028 \n",
      "(4, 0) 0.5520 0.6960 0.4240 0.7840 0.3120 \n",
      "(3, 1) 0.0000 0.0000 0.0000 0.0000 0.0000 \n",
      "(1, 2) 0.1261 0.0721 0.3243 0.2342 0.4865 \n",
      "(0, 2) 0.0000 0.0000 0.0620 0.2481 0.1860 \n",
      "(2, 0) 0.0000 0.0000 0.1639 0.0246 0.0246 \n",
      "(0, 4) 0.0000 0.0853 0.0310 0.1783 0.3876 \n",
      "(1, 3) 0.0000 0.0000 0.0076 0.0227 0.1439 \n",
      "(3, 2) 0.0000 0.0000 0.1176 0.1324 0.2721 \n",
      "(0, 1) 0.0000 0.0000 0.0342 0.3333 0.0000 \n",
      "(3, 0) 0.0000 0.0160 0.0480 0.1920 0.3440 \n",
      "(2, 4) 0.0000 0.0000 0.0000 0.0000 0.0000 \n",
      "(4, 1) 0.0000 0.0000 0.0000 0.0000 0.0000 \n",
      "(4, 3) 0.0233 0.0930 0.2326 0.2171 0.1550 \n",
      "(3, 4) 0.0000 0.0000 0.0000 0.0328 0.1885 \n",
      "(1, 0) 0.1181 0.6614 0.3071 0.4724 0.8110 \n",
      "(2, 3) 0.0000 0.0160 0.0000 0.0640 0.0240 \n",
      "(2, 1) 0.0000 0.0091 0.1455 0.3182 0.0091 \n",
      "(1, 4) 0.0000 0.0000 0.0000 0.0083 0.0500 \n",
      "(4, 2) 0.0000 0.0000 0.0000 0.0000 0.0000 \n"
     ]
    }
   ],
   "source": [
    "# group accuracy for the last epoch\n",
    "print(\"Trainset accuracy for each group\")\n",
    "for group, members in trainset.group_partition.items():\n",
    "    print(group, end=' ')\n",
    "    for epoch in range(num_epochs):\n",
    "        group_score = train_acc_history_lst[members, epoch]\n",
    "        print(f\"{group_score.mean():.4f}\", end=' ')\n",
    "    print()"
   ]
  },
  {
   "cell_type": "code",
   "execution_count": 24,
   "metadata": {},
   "outputs": [
    {
     "name": "stdout",
     "output_type": "stream",
     "text": [
      "Trainset forgetability score each group\n",
      "(2, 2) 0.0024558531165945504\n",
      "(0, 0) 0.01019028803161069\n",
      "(4, 4) 0.00033500837520938025\n",
      "(1, 1) 0.002940856115891515\n",
      "(3, 3) 0.0016216216216216215\n",
      "(0, 3) 2.1901408450704225\n",
      "(4, 0) 1.376\n",
      "(3, 1) 3.0\n",
      "(1, 2) 1.6846846846846846\n",
      "(0, 2) 2.302325581395349\n",
      "(2, 0) 2.5655737704918034\n",
      "(0, 4) 1.8914728682170543\n",
      "(1, 3) 2.553030303030303\n",
      "(3, 2) 2.176470588235294\n",
      "(0, 1) 2.3333333333333335\n",
      "(3, 0) 1.968\n",
      "(2, 4) 3.0\n",
      "(4, 1) 3.0\n",
      "(4, 3) 2.37984496124031\n",
      "(3, 4) 2.4344262295081966\n",
      "(1, 0) 0.9291338582677166\n",
      "(2, 3) 2.864\n",
      "(2, 1) 2.3545454545454545\n",
      "(1, 4) 2.8333333333333335\n",
      "(4, 2) 3.0\n"
     ]
    }
   ],
   "source": [
    "print(\"Trainset forgetability score each group\")\n",
    "train_forgetability_scores = np.array(train_forgetability_scores)\n",
    "count = 0\n",
    "for group, members in trainset.group_partition.items():\n",
    "    group_score = train_forgetability_scores[members]\n",
    "    print(group, group_score.mean())"
   ]
  },
  {
   "cell_type": "code",
   "execution_count": 25,
   "metadata": {},
   "outputs": [],
   "source": [
    "# group correct into (0,0), and incorrect into (1,1)\n",
    "\n",
    "jtt_group_partition = {(0,0): [], (0,1): []}\n",
    "for i in range(train_acc_history_lst.shape[0]):\n",
    "    if train_acc_history_lst[i, -1]: # correct\n",
    "        jtt_group_partition[(0,0)].append(i)\n",
    "    else: # incorrect\n",
    "        jtt_group_partition[(0,1)].append(i)"
   ]
  },
  {
   "cell_type": "code",
   "execution_count": 26,
   "metadata": {},
   "outputs": [
    {
     "name": "stdout",
     "output_type": "stream",
     "text": [
      "(0, 0) 45957 [0, 1, 2, 3, 4, 5, 6, 7, 8, 9]\n",
      "(0, 1) 2047 [21, 56, 89, 111, 113, 156, 158, 172, 177, 190]\n"
     ]
    }
   ],
   "source": [
    "for group, members in jtt_group_partition.items():\n",
    "    print(group, len(members), members[:10])"
   ]
  },
  {
   "cell_type": "code",
   "execution_count": 33,
   "metadata": {},
   "outputs": [],
   "source": [
    "fgt_group_partition = {(0,0): [], (0,1): []}\n",
    "for i in range(train_acc_history_lst.shape[0]):\n",
    "    if train_forgetability_scores[i] == 0: # correct\n",
    "        fgt_group_partition[(0,0)].append(i)\n",
    "    else: # incorrect\n",
    "        fgt_group_partition[(0,1)].append(i)"
   ]
  },
  {
   "cell_type": "code",
   "execution_count": 34,
   "metadata": {},
   "outputs": [
    {
     "name": "stdout",
     "output_type": "stream",
     "text": [
      "(0, 0) 45805 [0, 1, 2, 3, 4, 5, 6, 7, 8, 9]\n",
      "(0, 1) 2199 [21, 56, 89, 111, 113, 156, 158, 172, 177, 190]\n"
     ]
    }
   ],
   "source": [
    "for group, members in fgt_group_partition.items():\n",
    "    print(group, len(members), members[:10])"
   ]
  },
  {
   "cell_type": "code",
   "execution_count": 27,
   "metadata": {},
   "outputs": [
    {
     "name": "stderr",
     "output_type": "stream",
     "text": [
      "Getting Trainset Outputs: 100%|██████████| 751/751 [00:01<00:00, 411.86batch/s]\n"
     ]
    }
   ],
   "source": [
    "# from spuco.group_inference import JTTInference\n",
    "# from spuco.utils import Trainer\n",
    "\n",
    "# trainer = Trainer(\n",
    "#     trainset=trainset,\n",
    "#     model=model,\n",
    "#     batch_size=64,\n",
    "#     optimizer=optim.SGD(model.parameters(), lr=1e-2, momentum=0.9, nesterov=True),\n",
    "#     device=device,\n",
    "#     verbose=True\n",
    "# )\n",
    "\n",
    "# # trainer.train(1)\n",
    "\n",
    "# predictions = torch.argmax(trainer.get_trainset_outputs(), dim=-1).detach().cpu().tolist()\n",
    "# jtt = JTTInference(\n",
    "#     predictions=predictions,\n",
    "#     class_labels=trainset.labels\n",
    "# )\n",
    "# group_partition = jtt.infer_groups()"
   ]
  },
  {
   "cell_type": "code",
   "execution_count": 28,
   "metadata": {},
   "outputs": [
    {
     "name": "stdout",
     "output_type": "stream",
     "text": [
      "(0, 0) 45957 [0, 1, 2, 3, 4, 5, 6, 7, 8, 9]\n",
      "(0, 1) 2047 [21, 56, 89, 111, 113, 156, 158, 172, 177, 190]\n"
     ]
    }
   ],
   "source": [
    "# for group, members in group_partition.items():\n",
    "#     print(group, len(members), members[:10])"
   ]
  },
  {
   "cell_type": "code",
   "execution_count": 14,
   "metadata": {},
   "outputs": [
    {
     "data": {
      "text/plain": [
       "<All keys matched successfully>"
      ]
     },
     "execution_count": 14,
     "metadata": {},
     "output_type": "execute_result"
    }
   ],
   "source": [
    "jtt_model = model_factory(\"mlp\", trainset[0][0].shape, trainset.num_classes).to(device)\n",
    "jtt_model.load_state_dict(model.state_dict())\n"
   ]
  },
  {
   "cell_type": "code",
   "execution_count": 32,
   "metadata": {},
   "outputs": [
    {
     "data": {
      "text/plain": [
       "<All keys matched successfully>"
      ]
     },
     "execution_count": 32,
     "metadata": {},
     "output_type": "execute_result"
    }
   ],
   "source": [
    "fgt_model = model_factory(\"mlp\", trainset[0][0].shape, trainset.num_classes).to(device)\n",
    "fgt_model.load_state_dict(model.state_dict())"
   ]
  },
  {
   "cell_type": "code",
   "execution_count": 29,
   "metadata": {},
   "outputs": [
    {
     "name": "stderr",
     "output_type": "stream",
     "text": [
      "Epoch 0: 100%|██████████| 1437/1437 [00:06<00:00, 212.49batch/s, accuracy=40.0%, loss=2.29]    \n",
      "Epoch 1: 100%|██████████| 1437/1437 [00:06<00:00, 216.88batch/s, accuracy=80.0%, loss=0.741]   \n",
      "Epoch 2: 100%|██████████| 1437/1437 [00:10<00:00, 137.46batch/s, accuracy=70.0%, loss=1.07]    \n",
      "Epoch 3: 100%|██████████| 1437/1437 [00:08<00:00, 176.66batch/s, accuracy=80.0%, loss=0.587]   \n",
      "Epoch 4: 100%|██████████| 1437/1437 [00:06<00:00, 214.66batch/s, accuracy=60.0%, loss=1.62]    \n"
     ]
    }
   ],
   "source": [
    "from torch.optim import SGD\n",
    "from spuco.robust_train import UpSampleERM, DownSampleERM, CustomSampleERM\n",
    "\n",
    "jtt_train = UpSampleERM(\n",
    "    model=jtt_model,\n",
    "    num_epochs=5,\n",
    "    trainset=trainset,\n",
    "    batch_size=64,\n",
    "    group_partition=jtt_group_partition,\n",
    "    optimizer=SGD(model.parameters(), lr=1e-2, momentum=0.9, nesterov=True),\n",
    "    device=device,\n",
    "    verbose=True\n",
    ")\n",
    "jtt_train.train()"
   ]
  },
  {
   "cell_type": "code",
   "execution_count": 16,
   "metadata": {},
   "outputs": [
    {
     "name": "stderr",
     "output_type": "stream",
     "text": [
      "Epoch 0: 100%|██████████| 1444/1444 [00:06<00:00, 211.43batch/s, accuracy=62.5%, loss=0.996]   \n",
      "Epoch 1: 100%|██████████| 1444/1444 [00:06<00:00, 212.88batch/s, accuracy=79.16666666666667%, loss=0.704]\n",
      "Epoch 2: 100%|██████████| 1444/1444 [00:06<00:00, 214.77batch/s, accuracy=33.333333333333336%, loss=1.34]\n",
      "Epoch 3: 100%|██████████| 1444/1444 [00:06<00:00, 215.06batch/s, accuracy=62.5%, loss=1.03]    \n",
      "Epoch 4: 100%|██████████| 1444/1444 [00:06<00:00, 215.99batch/s, accuracy=79.16666666666667%, loss=0.675]\n"
     ]
    }
   ],
   "source": [
    "# from torch.optim import SGD\n",
    "# from spuco.robust_train import UpSampleERM, DownSampleERM, CustomSampleERM\n",
    "\n",
    "# jtt_train = UpSampleERM(\n",
    "#     model=model,\n",
    "#     num_epochs=5,\n",
    "#     trainset=trainset,\n",
    "#     batch_size=64,\n",
    "#     group_partition=group_partition,\n",
    "#     optimizer=SGD(model.parameters(), lr=1e-2, momentum=0.9, nesterov=True),\n",
    "#     device=device,\n",
    "#     verbose=True\n",
    "# )\n",
    "# jtt_train.train()"
   ]
  },
  {
   "cell_type": "code",
   "execution_count": 30,
   "metadata": {},
   "outputs": [
    {
     "name": "stderr",
     "output_type": "stream",
     "text": [
      "Evaluating group-wise accuracy:   4%|▍         | 1/25 [00:00<00:10,  2.28it/s]"
     ]
    },
    {
     "name": "stdout",
     "output_type": "stream",
     "text": [
      "Group (0, 0) Accuracy: 99.76359338061465\n"
     ]
    },
    {
     "name": "stderr",
     "output_type": "stream",
     "text": [
      "Evaluating group-wise accuracy:   8%|▊         | 2/25 [00:00<00:10,  2.19it/s]"
     ]
    },
    {
     "name": "stdout",
     "output_type": "stream",
     "text": [
      "Group (0, 1) Accuracy: 15.130023640661939\n"
     ]
    },
    {
     "name": "stderr",
     "output_type": "stream",
     "text": [
      "Evaluating group-wise accuracy:  12%|█▏        | 3/25 [00:01<00:09,  2.22it/s]"
     ]
    },
    {
     "name": "stdout",
     "output_type": "stream",
     "text": [
      "Group (0, 2) Accuracy: 59.810874704491724\n"
     ]
    },
    {
     "name": "stderr",
     "output_type": "stream",
     "text": [
      "Evaluating group-wise accuracy:  16%|█▌        | 4/25 [00:01<00:09,  2.18it/s]"
     ]
    },
    {
     "name": "stdout",
     "output_type": "stream",
     "text": [
      "Group (0, 3) Accuracy: 16.548463356973997\n"
     ]
    },
    {
     "name": "stderr",
     "output_type": "stream",
     "text": [
      "Evaluating group-wise accuracy:  20%|██        | 5/25 [00:02<00:09,  2.18it/s]"
     ]
    },
    {
     "name": "stdout",
     "output_type": "stream",
     "text": [
      "Group (0, 4) Accuracy: 56.973995271867615\n"
     ]
    },
    {
     "name": "stderr",
     "output_type": "stream",
     "text": [
      "Evaluating group-wise accuracy:  24%|██▍       | 6/25 [00:02<00:08,  2.16it/s]"
     ]
    },
    {
     "name": "stdout",
     "output_type": "stream",
     "text": [
      "Group (1, 0) Accuracy: 37.89731051344743\n"
     ]
    },
    {
     "name": "stderr",
     "output_type": "stream",
     "text": [
      "Evaluating group-wise accuracy:  28%|██▊       | 7/25 [00:03<00:08,  2.15it/s]"
     ]
    },
    {
     "name": "stdout",
     "output_type": "stream",
     "text": [
      "Group (1, 1) Accuracy: 100.0\n"
     ]
    },
    {
     "name": "stderr",
     "output_type": "stream",
     "text": [
      "Evaluating group-wise accuracy:  32%|███▏      | 8/25 [00:03<00:07,  2.19it/s]"
     ]
    },
    {
     "name": "stdout",
     "output_type": "stream",
     "text": [
      "Group (1, 2) Accuracy: 46.3235294117647\n"
     ]
    },
    {
     "name": "stderr",
     "output_type": "stream",
     "text": [
      "Evaluating group-wise accuracy:  36%|███▌      | 9/25 [00:04<00:07,  2.16it/s]"
     ]
    },
    {
     "name": "stdout",
     "output_type": "stream",
     "text": [
      "Group (1, 3) Accuracy: 9.558823529411764\n"
     ]
    },
    {
     "name": "stderr",
     "output_type": "stream",
     "text": [
      "Evaluating group-wise accuracy:  40%|████      | 10/25 [00:04<00:06,  2.17it/s]"
     ]
    },
    {
     "name": "stdout",
     "output_type": "stream",
     "text": [
      "Group (1, 4) Accuracy: 1.9607843137254901\n"
     ]
    },
    {
     "name": "stderr",
     "output_type": "stream",
     "text": [
      "Evaluating group-wise accuracy:  44%|████▍     | 11/25 [00:05<00:06,  2.17it/s]"
     ]
    },
    {
     "name": "stdout",
     "output_type": "stream",
     "text": [
      "Group (2, 0) Accuracy: 28.533333333333335\n"
     ]
    },
    {
     "name": "stderr",
     "output_type": "stream",
     "text": [
      "Evaluating group-wise accuracy:  48%|████▊     | 12/25 [00:05<00:05,  2.18it/s]"
     ]
    },
    {
     "name": "stdout",
     "output_type": "stream",
     "text": [
      "Group (2, 1) Accuracy: 20.8\n"
     ]
    },
    {
     "name": "stderr",
     "output_type": "stream",
     "text": [
      "Evaluating group-wise accuracy:  52%|█████▏    | 13/25 [00:05<00:05,  2.17it/s]"
     ]
    },
    {
     "name": "stdout",
     "output_type": "stream",
     "text": [
      "Group (2, 2) Accuracy: 99.46666666666667\n"
     ]
    },
    {
     "name": "stderr",
     "output_type": "stream",
     "text": [
      "Evaluating group-wise accuracy:  56%|█████▌    | 14/25 [00:06<00:05,  2.14it/s]"
     ]
    },
    {
     "name": "stdout",
     "output_type": "stream",
     "text": [
      "Group (2, 3) Accuracy: 7.466666666666667\n"
     ]
    },
    {
     "name": "stderr",
     "output_type": "stream",
     "text": [
      "Evaluating group-wise accuracy:  60%|██████    | 15/25 [00:06<00:04,  2.14it/s]"
     ]
    },
    {
     "name": "stdout",
     "output_type": "stream",
     "text": [
      "Group (2, 4) Accuracy: 0.0\n"
     ]
    },
    {
     "name": "stderr",
     "output_type": "stream",
     "text": [
      "Evaluating group-wise accuracy:  64%|██████▍   | 16/25 [00:07<00:04,  2.11it/s]"
     ]
    },
    {
     "name": "stdout",
     "output_type": "stream",
     "text": [
      "Group (3, 0) Accuracy: 59.79899497487437\n"
     ]
    },
    {
     "name": "stderr",
     "output_type": "stream",
     "text": [
      "Evaluating group-wise accuracy:  68%|██████▊   | 17/25 [00:07<00:03,  2.12it/s]"
     ]
    },
    {
     "name": "stdout",
     "output_type": "stream",
     "text": [
      "Group (3, 1) Accuracy: 17.884130982367758\n"
     ]
    },
    {
     "name": "stderr",
     "output_type": "stream",
     "text": [
      "Evaluating group-wise accuracy:  72%|███████▏  | 18/25 [00:08<00:03,  2.12it/s]"
     ]
    },
    {
     "name": "stdout",
     "output_type": "stream",
     "text": [
      "Group (3, 2) Accuracy: 56.92695214105793\n"
     ]
    },
    {
     "name": "stderr",
     "output_type": "stream",
     "text": [
      "Evaluating group-wise accuracy:  76%|███████▌  | 19/25 [00:08<00:02,  2.11it/s]"
     ]
    },
    {
     "name": "stdout",
     "output_type": "stream",
     "text": [
      "Group (3, 3) Accuracy: 100.0\n"
     ]
    },
    {
     "name": "stderr",
     "output_type": "stream",
     "text": [
      "Evaluating group-wise accuracy:  80%|████████  | 20/25 [00:09<00:02,  2.13it/s]"
     ]
    },
    {
     "name": "stdout",
     "output_type": "stream",
     "text": [
      "Group (3, 4) Accuracy: 19.143576826196472\n"
     ]
    },
    {
     "name": "stderr",
     "output_type": "stream",
     "text": [
      "Evaluating group-wise accuracy:  84%|████████▍ | 21/25 [00:09<00:01,  2.13it/s]"
     ]
    },
    {
     "name": "stdout",
     "output_type": "stream",
     "text": [
      "Group (4, 0) Accuracy: 65.74307304785894\n"
     ]
    },
    {
     "name": "stderr",
     "output_type": "stream",
     "text": [
      "Evaluating group-wise accuracy:  88%|████████▊ | 22/25 [00:10<00:01,  2.13it/s]"
     ]
    },
    {
     "name": "stdout",
     "output_type": "stream",
     "text": [
      "Group (4, 1) Accuracy: 3.27455919395466\n"
     ]
    },
    {
     "name": "stderr",
     "output_type": "stream",
     "text": [
      "Evaluating group-wise accuracy:  92%|█████████▏| 23/25 [00:10<00:00,  2.13it/s]"
     ]
    },
    {
     "name": "stdout",
     "output_type": "stream",
     "text": [
      "Group (4, 2) Accuracy: 0.0\n"
     ]
    },
    {
     "name": "stderr",
     "output_type": "stream",
     "text": [
      "Evaluating group-wise accuracy:  96%|█████████▌| 24/25 [00:11<00:00,  2.14it/s]"
     ]
    },
    {
     "name": "stdout",
     "output_type": "stream",
     "text": [
      "Group (4, 3) Accuracy: 16.161616161616163\n"
     ]
    },
    {
     "name": "stderr",
     "output_type": "stream",
     "text": [
      "Evaluating group-wise accuracy: 100%|██████████| 25/25 [00:11<00:00,  2.15it/s]"
     ]
    },
    {
     "name": "stdout",
     "output_type": "stream",
     "text": [
      "Group (4, 4) Accuracy: 100.0\n"
     ]
    },
    {
     "name": "stderr",
     "output_type": "stream",
     "text": [
      "\n"
     ]
    },
    {
     "data": {
      "text/plain": [
       "{(0, 0): 99.76359338061465,\n",
       " (0, 1): 15.130023640661939,\n",
       " (0, 2): 59.810874704491724,\n",
       " (0, 3): 16.548463356973997,\n",
       " (0, 4): 56.973995271867615,\n",
       " (1, 0): 37.89731051344743,\n",
       " (1, 1): 100.0,\n",
       " (1, 2): 46.3235294117647,\n",
       " (1, 3): 9.558823529411764,\n",
       " (1, 4): 1.9607843137254901,\n",
       " (2, 0): 28.533333333333335,\n",
       " (2, 1): 20.8,\n",
       " (2, 2): 99.46666666666667,\n",
       " (2, 3): 7.466666666666667,\n",
       " (2, 4): 0.0,\n",
       " (3, 0): 59.79899497487437,\n",
       " (3, 1): 17.884130982367758,\n",
       " (3, 2): 56.92695214105793,\n",
       " (3, 3): 100.0,\n",
       " (3, 4): 19.143576826196472,\n",
       " (4, 0): 65.74307304785894,\n",
       " (4, 1): 3.27455919395466,\n",
       " (4, 2): 0.0,\n",
       " (4, 3): 16.161616161616163,\n",
       " (4, 4): 100.0}"
      ]
     },
     "execution_count": 30,
     "metadata": {},
     "output_type": "execute_result"
    }
   ],
   "source": [
    "from spuco.evaluate import Evaluator\n",
    "\n",
    "evaluator = Evaluator(\n",
    "    testset=testset,\n",
    "    group_partition=testset.group_partition,\n",
    "    group_weights=trainset.group_weights,\n",
    "    batch_size=64,\n",
    "    model=jtt_model,\n",
    "    device=device,\n",
    "    verbose=True\n",
    ")\n",
    "evaluator.evaluate()"
   ]
  },
  {
   "cell_type": "code",
   "execution_count": 31,
   "metadata": {},
   "outputs": [
    {
     "name": "stderr",
     "output_type": "stream",
     "text": [
      "Evaluating group-wise accuracy:   4%|▍         | 1/25 [00:00<00:10,  2.19it/s]"
     ]
    },
    {
     "name": "stdout",
     "output_type": "stream",
     "text": [
      "Group (0, 0) Accuracy: 99.52718676122932\n"
     ]
    },
    {
     "name": "stderr",
     "output_type": "stream",
     "text": [
      "Evaluating group-wise accuracy:   8%|▊         | 2/25 [00:00<00:10,  2.15it/s]"
     ]
    },
    {
     "name": "stdout",
     "output_type": "stream",
     "text": [
      "Group (0, 1) Accuracy: 0.0\n"
     ]
    },
    {
     "name": "stderr",
     "output_type": "stream",
     "text": [
      "Evaluating group-wise accuracy:  12%|█▏        | 3/25 [00:01<00:10,  2.15it/s]"
     ]
    },
    {
     "name": "stdout",
     "output_type": "stream",
     "text": [
      "Group (0, 2) Accuracy: 17.96690307328605\n"
     ]
    },
    {
     "name": "stderr",
     "output_type": "stream",
     "text": [
      "Evaluating group-wise accuracy:  16%|█▌        | 4/25 [00:01<00:09,  2.14it/s]"
     ]
    },
    {
     "name": "stdout",
     "output_type": "stream",
     "text": [
      "Group (0, 3) Accuracy: 22.22222222222222\n"
     ]
    },
    {
     "name": "stderr",
     "output_type": "stream",
     "text": [
      "Evaluating group-wise accuracy:  20%|██        | 5/25 [00:02<00:09,  2.11it/s]"
     ]
    },
    {
     "name": "stdout",
     "output_type": "stream",
     "text": [
      "Group (0, 4) Accuracy: 37.35224586288416\n"
     ]
    },
    {
     "name": "stderr",
     "output_type": "stream",
     "text": [
      "Evaluating group-wise accuracy:  24%|██▍       | 6/25 [00:02<00:08,  2.11it/s]"
     ]
    },
    {
     "name": "stdout",
     "output_type": "stream",
     "text": [
      "Group (1, 0) Accuracy: 76.28361858190709\n"
     ]
    },
    {
     "name": "stderr",
     "output_type": "stream",
     "text": [
      "Evaluating group-wise accuracy:  28%|██▊       | 7/25 [00:03<00:08,  2.12it/s]"
     ]
    },
    {
     "name": "stdout",
     "output_type": "stream",
     "text": [
      "Group (1, 1) Accuracy: 100.0\n"
     ]
    },
    {
     "name": "stderr",
     "output_type": "stream",
     "text": [
      "Evaluating group-wise accuracy:  32%|███▏      | 8/25 [00:03<00:07,  2.14it/s]"
     ]
    },
    {
     "name": "stdout",
     "output_type": "stream",
     "text": [
      "Group (1, 2) Accuracy: 50.490196078431374\n"
     ]
    },
    {
     "name": "stderr",
     "output_type": "stream",
     "text": [
      "Evaluating group-wise accuracy:  36%|███▌      | 9/25 [00:04<00:07,  2.16it/s]"
     ]
    },
    {
     "name": "stdout",
     "output_type": "stream",
     "text": [
      "Group (1, 3) Accuracy: 23.284313725490197\n"
     ]
    },
    {
     "name": "stderr",
     "output_type": "stream",
     "text": [
      "Evaluating group-wise accuracy:  40%|████      | 10/25 [00:04<00:06,  2.18it/s]"
     ]
    },
    {
     "name": "stdout",
     "output_type": "stream",
     "text": [
      "Group (1, 4) Accuracy: 1.7156862745098038\n"
     ]
    },
    {
     "name": "stderr",
     "output_type": "stream",
     "text": [
      "Evaluating group-wise accuracy:  44%|████▍     | 11/25 [00:05<00:06,  2.17it/s]"
     ]
    },
    {
     "name": "stdout",
     "output_type": "stream",
     "text": [
      "Group (2, 0) Accuracy: 0.8\n"
     ]
    },
    {
     "name": "stderr",
     "output_type": "stream",
     "text": [
      "Evaluating group-wise accuracy:  48%|████▊     | 12/25 [00:05<00:05,  2.19it/s]"
     ]
    },
    {
     "name": "stdout",
     "output_type": "stream",
     "text": [
      "Group (2, 1) Accuracy: 0.5333333333333333\n"
     ]
    },
    {
     "name": "stderr",
     "output_type": "stream",
     "text": [
      "Evaluating group-wise accuracy:  52%|█████▏    | 13/25 [00:06<00:05,  2.17it/s]"
     ]
    },
    {
     "name": "stdout",
     "output_type": "stream",
     "text": [
      "Group (2, 2) Accuracy: 100.0\n"
     ]
    },
    {
     "name": "stderr",
     "output_type": "stream",
     "text": [
      "Evaluating group-wise accuracy:  56%|█████▌    | 14/25 [00:06<00:05,  2.15it/s]"
     ]
    },
    {
     "name": "stdout",
     "output_type": "stream",
     "text": [
      "Group (2, 3) Accuracy: 1.6\n"
     ]
    },
    {
     "name": "stderr",
     "output_type": "stream",
     "text": [
      "Evaluating group-wise accuracy:  60%|██████    | 15/25 [00:06<00:04,  2.14it/s]"
     ]
    },
    {
     "name": "stdout",
     "output_type": "stream",
     "text": [
      "Group (2, 4) Accuracy: 0.0\n"
     ]
    },
    {
     "name": "stderr",
     "output_type": "stream",
     "text": [
      "Evaluating group-wise accuracy:  64%|██████▍   | 16/25 [00:07<00:04,  2.10it/s]"
     ]
    },
    {
     "name": "stdout",
     "output_type": "stream",
     "text": [
      "Group (3, 0) Accuracy: 32.663316582914575\n"
     ]
    },
    {
     "name": "stderr",
     "output_type": "stream",
     "text": [
      "Evaluating group-wise accuracy:  68%|██████▊   | 17/25 [00:07<00:03,  2.12it/s]"
     ]
    },
    {
     "name": "stdout",
     "output_type": "stream",
     "text": [
      "Group (3, 1) Accuracy: 0.0\n"
     ]
    },
    {
     "name": "stderr",
     "output_type": "stream",
     "text": [
      "Evaluating group-wise accuracy:  72%|███████▏  | 18/25 [00:08<00:03,  2.14it/s]"
     ]
    },
    {
     "name": "stdout",
     "output_type": "stream",
     "text": [
      "Group (3, 2) Accuracy: 28.96725440806045\n"
     ]
    },
    {
     "name": "stderr",
     "output_type": "stream",
     "text": [
      "Evaluating group-wise accuracy:  76%|███████▌  | 19/25 [00:08<00:02,  2.14it/s]"
     ]
    },
    {
     "name": "stdout",
     "output_type": "stream",
     "text": [
      "Group (3, 3) Accuracy: 99.49622166246851\n"
     ]
    },
    {
     "name": "stderr",
     "output_type": "stream",
     "text": [
      "Evaluating group-wise accuracy:  80%|████████  | 20/25 [00:09<00:02,  2.14it/s]"
     ]
    },
    {
     "name": "stdout",
     "output_type": "stream",
     "text": [
      "Group (3, 4) Accuracy: 21.15869017632242\n"
     ]
    },
    {
     "name": "stderr",
     "output_type": "stream",
     "text": [
      "Evaluating group-wise accuracy:  84%|████████▍ | 21/25 [00:09<00:01,  2.14it/s]"
     ]
    },
    {
     "name": "stdout",
     "output_type": "stream",
     "text": [
      "Group (4, 0) Accuracy: 33.249370277078086\n"
     ]
    },
    {
     "name": "stderr",
     "output_type": "stream",
     "text": [
      "Evaluating group-wise accuracy:  88%|████████▊ | 22/25 [00:10<00:01,  2.16it/s]"
     ]
    },
    {
     "name": "stdout",
     "output_type": "stream",
     "text": [
      "Group (4, 1) Accuracy: 0.0\n"
     ]
    },
    {
     "name": "stderr",
     "output_type": "stream",
     "text": [
      "Evaluating group-wise accuracy:  92%|█████████▏| 23/25 [00:10<00:00,  2.14it/s]"
     ]
    },
    {
     "name": "stdout",
     "output_type": "stream",
     "text": [
      "Group (4, 2) Accuracy: 0.0\n"
     ]
    },
    {
     "name": "stderr",
     "output_type": "stream",
     "text": [
      "Evaluating group-wise accuracy:  96%|█████████▌| 24/25 [00:11<00:00,  2.15it/s]"
     ]
    },
    {
     "name": "stdout",
     "output_type": "stream",
     "text": [
      "Group (4, 3) Accuracy: 13.383838383838384\n"
     ]
    },
    {
     "name": "stderr",
     "output_type": "stream",
     "text": [
      "Evaluating group-wise accuracy: 100%|██████████| 25/25 [00:11<00:00,  2.14it/s]"
     ]
    },
    {
     "name": "stdout",
     "output_type": "stream",
     "text": [
      "Group (4, 4) Accuracy: 100.0\n"
     ]
    },
    {
     "name": "stderr",
     "output_type": "stream",
     "text": [
      "\n"
     ]
    },
    {
     "data": {
      "text/plain": [
       "{(0, 0): 99.52718676122932,\n",
       " (0, 1): 0.0,\n",
       " (0, 2): 17.96690307328605,\n",
       " (0, 3): 22.22222222222222,\n",
       " (0, 4): 37.35224586288416,\n",
       " (1, 0): 76.28361858190709,\n",
       " (1, 1): 100.0,\n",
       " (1, 2): 50.490196078431374,\n",
       " (1, 3): 23.284313725490197,\n",
       " (1, 4): 1.7156862745098038,\n",
       " (2, 0): 0.8,\n",
       " (2, 1): 0.5333333333333333,\n",
       " (2, 2): 100.0,\n",
       " (2, 3): 1.6,\n",
       " (2, 4): 0.0,\n",
       " (3, 0): 32.663316582914575,\n",
       " (3, 1): 0.0,\n",
       " (3, 2): 28.96725440806045,\n",
       " (3, 3): 99.49622166246851,\n",
       " (3, 4): 21.15869017632242,\n",
       " (4, 0): 33.249370277078086,\n",
       " (4, 1): 0.0,\n",
       " (4, 2): 0.0,\n",
       " (4, 3): 13.383838383838384,\n",
       " (4, 4): 100.0}"
      ]
     },
     "execution_count": 31,
     "metadata": {},
     "output_type": "execute_result"
    }
   ],
   "source": [
    "from spuco.evaluate import Evaluator\n",
    "\n",
    "evaluator = Evaluator(\n",
    "    testset=testset,\n",
    "    group_partition=testset.group_partition,\n",
    "    group_weights=trainset.group_weights,\n",
    "    batch_size=64,\n",
    "    model=model,\n",
    "    device=device,\n",
    "    verbose=True\n",
    ")\n",
    "evaluator.evaluate()"
   ]
  },
  {
   "cell_type": "code",
   "execution_count": null,
   "metadata": {},
   "outputs": [],
   "source": []
  }
 ],
 "metadata": {
  "kernelspec": {
   "display_name": "spuco",
   "language": "python",
   "name": "python3"
  },
  "language_info": {
   "codemirror_mode": {
    "name": "ipython",
    "version": 3
   },
   "file_extension": ".py",
   "mimetype": "text/x-python",
   "name": "python",
   "nbconvert_exporter": "python",
   "pygments_lexer": "ipython3",
   "version": "3.10.12"
  }
 },
 "nbformat": 4,
 "nbformat_minor": 2
}
