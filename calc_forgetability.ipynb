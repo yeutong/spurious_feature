{
 "cells": [
  {
   "cell_type": "code",
   "execution_count": 51,
   "metadata": {},
   "outputs": [],
   "source": [
    "import torch\n",
    "\n",
    "device = torch.device(\"cuda\")"
   ]
  },
  {
   "cell_type": "code",
   "execution_count": 52,
   "metadata": {},
   "outputs": [],
   "source": [
    "from spuco.utils import set_seed\n",
    "\n",
    "set_seed(0)"
   ]
  },
  {
   "cell_type": "code",
   "execution_count": 53,
   "metadata": {},
   "outputs": [
    {
     "name": "stderr",
     "output_type": "stream",
     "text": [
      "100%|██████████| 48004/48004 [00:04<00:00, 9987.24it/s] \n",
      "100%|██████████| 10000/10000 [00:00<00:00, 10209.19it/s]\n"
     ]
    }
   ],
   "source": [
    "from spuco.robust_train import ERM\n",
    "from spuco.datasets import SpuCoMNIST, SpuriousFeatureDifficulty\n",
    "import torchvision.transforms as T\n",
    "\n",
    "classes = [[0, 1], [2, 3], [4, 5], [6, 7], [8, 9]]\n",
    "difficulty = SpuriousFeatureDifficulty.MAGNITUDE_LARGE\n",
    "root = \"data/mnist/\"\n",
    "\n",
    "trainset = SpuCoMNIST(\n",
    "    root=root,\n",
    "    spurious_feature_difficulty=difficulty,\n",
    "    spurious_correlation_strength=0.95,\n",
    "    classes=classes,\n",
    "    split=\"train\",\n",
    "    label_noise=0.001\n",
    ")\n",
    "trainset.initialize()\n",
    "\n",
    "testset = SpuCoMNIST(\n",
    "    root=root,\n",
    "    spurious_feature_difficulty=difficulty,\n",
    "    classes=classes,\n",
    "    split=\"test\"\n",
    ")\n",
    "testset.initialize()\n"
   ]
  },
  {
   "cell_type": "code",
   "execution_count": 54,
   "metadata": {},
   "outputs": [
    {
     "name": "stderr",
     "output_type": "stream",
     "text": [
      "100%|██████████| 11996/11996 [00:01<00:00, 10240.36it/s]\n"
     ]
    }
   ],
   "source": [
    "from spuco.datasets import SpuCoMNIST, SpuriousFeatureDifficulty\n",
    "\n",
    "classes = [[0, 1], [2, 3], [4, 5], [6, 7], [8, 9]]\n",
    "\n",
    "valset = SpuCoMNIST(\n",
    "    root=root,\n",
    "    spurious_feature_difficulty=difficulty,\n",
    "    classes=classes,\n",
    "    split=\"val\"\n",
    ")\n",
    "valset.initialize()\n"
   ]
  },
  {
   "cell_type": "code",
   "execution_count": 55,
   "metadata": {},
   "outputs": [
    {
     "data": {
      "image/jpeg": "[encoded data removed]",
      "image/png": "[encoded data removed]",
      "text/plain": [
       "<PIL.Image.Image image mode=RGB size=28x28>"
      ]
     },
     "execution_count": 55,
     "metadata": {},
     "output_type": "execute_result"
    }
   ],
   "source": [
    "T.ToPILImage()(trainset[1000][0]).resize((28,28))"
   ]
  },
  {
   "cell_type": "code",
   "execution_count": 56,
   "metadata": {},
   "outputs": [],
   "source": [
    "import torch\n",
    "import torch.nn as nn\n",
    "import torch.optim as optim\n",
    "from torch.utils.data import Subset, DataLoader\n",
    "from spuco.robust_train import ERM\n",
    "from spuco.datasets import SpuCoMNIST, SpuriousFeatureDifficulty\n",
    "import torchvision.transforms as T\n",
    "import numpy as np"
   ]
  },
  {
   "cell_type": "code",
   "execution_count": 57,
   "metadata": {},
   "outputs": [],
   "source": [
    "train_loader = DataLoader(trainset, batch_size=64, shuffle=True)\n",
    "not_shuffle_train_loader = DataLoader(trainset, batch_size=64, shuffle=False)\n",
    "test_loader = DataLoader(testset, batch_size=64, shuffle=False)"
   ]
  },
  {
   "cell_type": "code",
   "execution_count": 58,
   "metadata": {},
   "outputs": [
    {
     "name": "stdout",
     "output_type": "stream",
     "text": [
      "Epoch 1/10, Train Acc: 0.9508, Test Acc: 0.2309\n",
      "Epoch 2/10, Train Acc: 0.9524, Test Acc: 0.2683\n",
      "Epoch 3/10, Train Acc: 0.9533, Test Acc: 0.2742\n",
      "Epoch 4/10, Train Acc: 0.9566, Test Acc: 0.3309\n",
      "Epoch 5/10, Train Acc: 0.9574, Test Acc: 0.3469\n",
      "Epoch 6/10, Train Acc: 0.9564, Test Acc: 0.3407\n",
      "Epoch 7/10, Train Acc: 0.9587, Test Acc: 0.3647\n",
      "Epoch 8/10, Train Acc: 0.9591, Test Acc: 0.3613\n",
      "Epoch 9/10, Train Acc: 0.9613, Test Acc: 0.3964\n",
      "Epoch 10/10, Train Acc: 0.9622, Test Acc: 0.4178\n"
     ]
    }
   ],
   "source": [
    "from spuco.models import model_factory\n",
    "\n",
    "# model = model_factory(\"lenet\", trainset[0][0].shape, trainset.num_classes).to(device)\n",
    "model = model_factory(\"mlp\", trainset[0][0].shape, trainset.num_classes).to(device)\n",
    "\n",
    "from spuco.evaluate import Evaluator\n",
    "\n",
    "# Initialize the model and optimizer\n",
    "# optimizer = optim.Adam(model.parameters(), lr=0.001)\n",
    "optimizer = optim.SGD(model.parameters(), lr=1e-2, momentum=0.9, nesterov=False)\n",
    "\n",
    "# Training loop\n",
    "device = torch.device(\"cuda\" if torch.cuda.is_available() else \"cpu\")\n",
    "model.to(device)\n",
    "criterion = nn.CrossEntropyLoss()\n",
    "num_epochs = 10\n",
    "# train_predictions_history = [[] for _ in range(len(trainset))]\n",
    "# test_predictions_history = [[] for _ in range(len(testset))]\n",
    "train_acc_history_lst = []\n",
    "test_acc_history_lst = []\n",
    "\n",
    "# Training function\n",
    "def train(model, train_loader, optimizer, criterion, device):\n",
    "    model.train()\n",
    "    for batch_idx, (data, target) in enumerate(train_loader):\n",
    "        data, target = data.to(device), target.to(device)\n",
    "        optimizer.zero_grad()\n",
    "        output = model(data)\n",
    "        loss = criterion(output, target)\n",
    "        loss.backward()\n",
    "        optimizer.step()\n",
    "\n",
    "# Evaluation function\n",
    "def evaluate(model, data_loader, criterion, device):\n",
    "    model.eval()\n",
    "    correct = 0\n",
    "    total = 0\n",
    "    predictions = []\n",
    "    acc_history = []\n",
    "    with torch.no_grad():\n",
    "        for data, target in data_loader:\n",
    "            data, target = data.to(device), target.to(device)\n",
    "            output = model(data)\n",
    "            _, predicted = torch.max(output.data, 1)\n",
    "            total += target.size(0)\n",
    "            correct += (predicted == target).sum().item()\n",
    "            acc_history.extend((predicted == target).cpu().numpy())\n",
    "            predictions.extend(predicted.cpu().numpy())\n",
    "    return correct / total, acc_history\n",
    "\n",
    "# Calculate forgetability scores\n",
    "def calculate_forgetability(predictions_history):\n",
    "    forgetability_scores = []\n",
    "    for sample_predictions in predictions_history:\n",
    "        correct_to_incorrect = 0\n",
    "        for i in range(1, len(sample_predictions)):\n",
    "            if sample_predictions[i-1] == 1 and sample_predictions[i] == 0:\n",
    "                correct_to_incorrect += 1\n",
    "\n",
    "        if sum(sample_predictions) == 0:\n",
    "            correct_to_incorrect = (num_epochs // 2) + 1\n",
    "        forgetability_scores.append(correct_to_incorrect)\n",
    "    return forgetability_scores\n",
    "\n",
    "\n",
    "\n",
    "for epoch in range(num_epochs):\n",
    "    train(model, train_loader, optimizer, criterion, device)\n",
    "    train_acc, train_acc_history = evaluate(model, not_shuffle_train_loader, criterion, device)\n",
    "    test_acc, test_acc_history = evaluate(model, test_loader, criterion, device)\n",
    "\n",
    "    print(f\"Epoch {epoch+1}/{num_epochs}, Train Acc: {train_acc:.4f}, Test Acc: {test_acc:.4f}\")\n",
    "\n",
    "    train_acc_history_lst.append(train_acc_history)\n",
    "    test_acc_history_lst.append(test_acc_history)\n",
    "\n"
   ]
  },
  {
   "cell_type": "code",
   "execution_count": 59,
   "metadata": {},
   "outputs": [],
   "source": [
    "train_acc_history_lst = np.array(train_acc_history_lst).T\n",
    "train_forgetability_scores = calculate_forgetability(train_acc_history_lst)\n"
   ]
  },
  {
   "cell_type": "code",
   "execution_count": 60,
   "metadata": {},
   "outputs": [
    {
     "name": "stdout",
     "output_type": "stream",
     "text": [
      "Trainset accuracy for each group\n",
      "(2, 2) 0.9999 0.9998 0.9989 0.9986 0.9981 0.9931 0.9991 0.9993 0.9985 0.9927 \n",
      "(0, 0) 0.9990 0.9943 0.9993 0.9985 0.9960 0.9990 0.9997 0.9992 0.9956 0.9990 \n",
      "(4, 4) 1.0000 1.0000 1.0000 0.9999 0.9997 0.9999 0.9998 0.9964 0.9999 0.9991 \n",
      "(1, 1) 1.0000 1.0000 0.9998 0.9971 1.0000 1.0000 1.0000 1.0000 0.9999 0.9990 \n",
      "(3, 3) 1.0000 0.9997 0.9990 0.9988 0.9991 0.9957 0.9919 0.9995 0.9964 0.9998 \n",
      "(0, 3) 0.0000 0.1127 0.0141 0.2042 0.3028 0.2465 0.4085 0.3662 0.3028 0.2394 \n",
      "(4, 0) 0.5520 0.6960 0.4240 0.7840 0.3120 0.3680 0.4320 0.2720 0.8720 0.6880 \n",
      "(3, 1) 0.0000 0.0000 0.0000 0.0000 0.0000 0.0000 0.0000 0.0000 0.0085 0.1368 \n",
      "(1, 2) 0.1261 0.0721 0.3243 0.2342 0.4865 0.7838 0.4505 0.3784 0.3604 0.4775 \n",
      "(0, 2) 0.0000 0.0000 0.0620 0.2481 0.1860 0.0620 0.3023 0.3333 0.3411 0.6279 \n",
      "(2, 0) 0.0000 0.0000 0.1639 0.0246 0.0246 0.2213 0.2705 0.4426 0.2377 0.3197 \n",
      "(0, 4) 0.0000 0.0853 0.0310 0.1783 0.3876 0.1163 0.3566 0.8140 0.1628 0.6512 \n",
      "(1, 3) 0.0000 0.0000 0.0076 0.0227 0.1439 0.1515 0.1818 0.1591 0.1364 0.0379 \n",
      "(3, 2) 0.0000 0.0000 0.1176 0.1324 0.2721 0.0000 0.0294 0.0221 0.3162 0.6176 \n",
      "(0, 1) 0.0000 0.0000 0.0342 0.3333 0.0000 0.0000 0.0427 0.1368 0.1966 0.1368 \n",
      "(3, 0) 0.0000 0.0160 0.0480 0.1920 0.3440 0.3600 0.2480 0.3360 0.6000 0.6480 \n",
      "(2, 4) 0.0000 0.0000 0.0000 0.0000 0.0000 0.0000 0.0000 0.0000 0.0000 0.0000 \n",
      "(4, 1) 0.0000 0.0000 0.0000 0.0000 0.0000 0.0000 0.0000 0.0000 0.0000 0.0171 \n",
      "(4, 3) 0.0233 0.0930 0.2326 0.2171 0.1550 0.4806 0.5271 0.0698 0.3643 0.1860 \n",
      "(3, 4) 0.0000 0.0000 0.0000 0.0328 0.1885 0.0328 0.0000 0.1557 0.0164 0.1475 \n",
      "(1, 0) 0.1181 0.6614 0.3071 0.4724 0.8110 0.6378 0.4331 0.5906 0.7874 0.4724 \n",
      "(2, 3) 0.0000 0.0160 0.0000 0.0640 0.0240 0.2880 0.5600 0.0240 0.5040 0.0960 \n",
      "(2, 1) 0.0000 0.0091 0.1455 0.3182 0.0091 0.0091 0.1182 0.1000 0.1364 0.2545 \n",
      "(1, 4) 0.0000 0.0000 0.0000 0.0083 0.0500 0.0083 0.0417 0.0583 0.0583 0.0167 \n",
      "(4, 2) 0.0000 0.0000 0.0000 0.0000 0.0000 0.0000 0.0000 0.0000 0.0000 0.0000 \n"
     ]
    }
   ],
   "source": [
    "# group accuracy for the last epoch\n",
    "print(\"Trainset accuracy for each group\")\n",
    "for group, members in trainset.group_partition.items():\n",
    "    print(group, end=' ')\n",
    "    for epoch in range(10):\n",
    "        group_score = train_acc_history_lst[members, epoch]\n",
    "        print(f\"{group_score.mean():.4f}\", end=' ')\n",
    "    print()"
   ]
  },
  {
   "cell_type": "code",
   "execution_count": 61,
   "metadata": {},
   "outputs": [
    {
     "name": "stdout",
     "output_type": "stream",
     "text": [
      "Trainset forgetability score each group\n",
      "(2, 2) 0.014969009472576306\n",
      "(0, 0) 0.013621711552459188\n",
      "(4, 4) 0.004578447794528197\n",
      "(1, 1) 0.003921141487855354\n",
      "(3, 3) 0.012324324324324324\n",
      "(0, 3) 3.9225352112676055\n",
      "(4, 0) 1.76\n",
      "(3, 1) 5.17948717948718\n",
      "(1, 2) 1.882882882882883\n",
      "(0, 2) 2.4728682170542635\n",
      "(2, 0) 3.6065573770491803\n",
      "(0, 4) 2.10077519379845\n",
      "(1, 3) 4.598484848484849\n",
      "(3, 2) 2.5955882352941178\n",
      "(0, 1) 4.2905982905982905\n",
      "(3, 0) 2.088\n",
      "(2, 4) 6.0\n",
      "(4, 1) 5.897435897435898\n",
      "(4, 3) 3.441860465116279\n",
      "(3, 4) 4.950819672131147\n",
      "(1, 0) 2.1338582677165356\n",
      "(2, 3) 3.496\n",
      "(2, 1) 4.2727272727272725\n",
      "(1, 4) 5.583333333333333\n",
      "(4, 2) 6.0\n"
     ]
    }
   ],
   "source": [
    "print(\"Trainset forgetability score each group\")\n",
    "train_forgetability_scores = np.array(train_forgetability_scores)\n",
    "count = 0\n",
    "for group, members in trainset.group_partition.items():\n",
    "    group_score = train_forgetability_scores[members]\n",
    "    print(group, group_score.mean())\n"
   ]
  },
  {
   "cell_type": "code",
   "execution_count": 62,
   "metadata": {},
   "outputs": [
    {
     "data": {
      "text/plain": [
       "(48004,)"
      ]
     },
     "execution_count": 62,
     "metadata": {},
     "output_type": "execute_result"
    }
   ],
   "source": [
    "train_forgetability_scores.shape"
   ]
  },
  {
   "cell_type": "code",
   "execution_count": 63,
   "metadata": {},
   "outputs": [
    {
     "data": {
      "text/plain": [
       "(48004,)"
      ]
     },
     "execution_count": 63,
     "metadata": {},
     "output_type": "execute_result"
    }
   ],
   "source": [
    "train_acc_history_lst[:, -1].shape"
   ]
  },
  {
   "cell_type": "code",
   "execution_count": 64,
   "metadata": {},
   "outputs": [],
   "source": [
    "# group correct into (0,0), and incorrect into (1,1)\n",
    "\n",
    "jtt_group_partition = {(0,0): [], (1,1): []}\n",
    "for i in range(train_acc_history_lst.shape[0]):\n",
    "    if train_acc_history_lst[i, -1]: # correct\n",
    "        jtt_group_partition[(0,0)].append(i)\n",
    "    else: # incorrect\n",
    "        jtt_group_partition[(1,1)].append(i)"
   ]
  },
  {
   "cell_type": "code",
   "execution_count": 76,
   "metadata": {},
   "outputs": [],
   "source": [
    "# fgt_group_partition = {(0, i): [] for i in range(7)}\n",
    "fgt_group_partition = {}\n",
    "for i in range(train_forgetability_scores.shape[0]):\n",
    "    # if train_forgetability_scores[i] <= 2: # forgettable\n",
    "    #     fgt_group_partition[(1,1)].append(i)\n",
    "    # else: # not forgettable\n",
    "    #     fgt_group_partition[(0,0)].append(i)\n",
    "\n",
    "    group = (0, train_forgetability_scores[i].item())\n",
    "    if group not in fgt_group_partition:\n",
    "        fgt_group_partition[group] = []\n",
    "    fgt_group_partition[group].append(i)"
   ]
  },
  {
   "cell_type": "code",
   "execution_count": 66,
   "metadata": {},
   "outputs": [
    {
     "data": {
      "text/plain": [
       "<All keys matched successfully>"
      ]
     },
     "execution_count": 66,
     "metadata": {},
     "output_type": "execute_result"
    }
   ],
   "source": [
    "import copy\n",
    "\n",
    "# clone model\n",
    "model_jtt = model_factory(\"mlp\", trainset[0][0].shape, trainset.num_classes).to(device)\n",
    "model_fgt = model_factory(\"mlp\", trainset[0][0].shape, trainset.num_classes).to(device)\n",
    "\n",
    "model_jtt.load_state_dict(copy.deepcopy(model.state_dict()))\n",
    "model_fgt.load_state_dict(copy.deepcopy(model.state_dict()))\n"
   ]
  },
  {
   "cell_type": "code",
   "execution_count": 67,
   "metadata": {},
   "outputs": [
    {
     "name": "stderr",
     "output_type": "stream",
     "text": [
      "Evaluating group-wise accuracy:   4%|▍         | 1/25 [00:00<00:10,  2.25it/s]"
     ]
    },
    {
     "name": "stdout",
     "output_type": "stream",
     "text": [
      "Group (0, 0) Accuracy: 99.76359338061465\n"
     ]
    },
    {
     "name": "stderr",
     "output_type": "stream",
     "text": [
      "Evaluating group-wise accuracy:   8%|▊         | 2/25 [00:00<00:10,  2.22it/s]"
     ]
    },
    {
     "name": "stdout",
     "output_type": "stream",
     "text": [
      "Group (0, 1) Accuracy: 15.130023640661939\n"
     ]
    },
    {
     "name": "stderr",
     "output_type": "stream",
     "text": [
      "Evaluating group-wise accuracy:  12%|█▏        | 3/25 [00:01<00:09,  2.23it/s]"
     ]
    },
    {
     "name": "stdout",
     "output_type": "stream",
     "text": [
      "Group (0, 2) Accuracy: 59.810874704491724\n"
     ]
    },
    {
     "name": "stderr",
     "output_type": "stream",
     "text": [
      "Evaluating group-wise accuracy:  16%|█▌        | 4/25 [00:01<00:09,  2.20it/s]"
     ]
    },
    {
     "name": "stdout",
     "output_type": "stream",
     "text": [
      "Group (0, 3) Accuracy: 16.548463356973997\n"
     ]
    },
    {
     "name": "stderr",
     "output_type": "stream",
     "text": [
      "Evaluating group-wise accuracy:  20%|██        | 5/25 [00:02<00:09,  2.15it/s]"
     ]
    },
    {
     "name": "stdout",
     "output_type": "stream",
     "text": [
      "Group (0, 4) Accuracy: 56.973995271867615\n"
     ]
    },
    {
     "name": "stderr",
     "output_type": "stream",
     "text": [
      "Evaluating group-wise accuracy:  24%|██▍       | 6/25 [00:02<00:08,  2.17it/s]"
     ]
    },
    {
     "name": "stdout",
     "output_type": "stream",
     "text": [
      "Group (1, 0) Accuracy: 37.89731051344743\n"
     ]
    },
    {
     "name": "stderr",
     "output_type": "stream",
     "text": [
      "Evaluating group-wise accuracy:  28%|██▊       | 7/25 [00:03<00:08,  2.19it/s]"
     ]
    },
    {
     "name": "stdout",
     "output_type": "stream",
     "text": [
      "Group (1, 1) Accuracy: 100.0\n"
     ]
    },
    {
     "name": "stderr",
     "output_type": "stream",
     "text": [
      "Evaluating group-wise accuracy:  32%|███▏      | 8/25 [00:03<00:07,  2.18it/s]"
     ]
    },
    {
     "name": "stdout",
     "output_type": "stream",
     "text": [
      "Group (1, 2) Accuracy: 46.3235294117647\n"
     ]
    },
    {
     "name": "stderr",
     "output_type": "stream",
     "text": [
      "Evaluating group-wise accuracy:  36%|███▌      | 9/25 [00:04<00:07,  2.14it/s]"
     ]
    },
    {
     "name": "stdout",
     "output_type": "stream",
     "text": [
      "Group (1, 3) Accuracy: 9.558823529411764\n"
     ]
    },
    {
     "name": "stderr",
     "output_type": "stream",
     "text": [
      "Evaluating group-wise accuracy:  40%|████      | 10/25 [00:04<00:06,  2.16it/s]"
     ]
    },
    {
     "name": "stdout",
     "output_type": "stream",
     "text": [
      "Group (1, 4) Accuracy: 1.9607843137254901\n"
     ]
    },
    {
     "name": "stderr",
     "output_type": "stream",
     "text": [
      "Evaluating group-wise accuracy:  44%|████▍     | 11/25 [00:05<00:06,  2.19it/s]"
     ]
    },
    {
     "name": "stdout",
     "output_type": "stream",
     "text": [
      "Group (2, 0) Accuracy: 28.533333333333335\n"
     ]
    },
    {
     "name": "stderr",
     "output_type": "stream",
     "text": [
      "Evaluating group-wise accuracy:  48%|████▊     | 12/25 [00:05<00:05,  2.20it/s]"
     ]
    },
    {
     "name": "stdout",
     "output_type": "stream",
     "text": [
      "Group (2, 1) Accuracy: 20.8\n"
     ]
    },
    {
     "name": "stderr",
     "output_type": "stream",
     "text": [
      "Evaluating group-wise accuracy:  52%|█████▏    | 13/25 [00:05<00:05,  2.20it/s]"
     ]
    },
    {
     "name": "stdout",
     "output_type": "stream",
     "text": [
      "Group (2, 2) Accuracy: 99.46666666666667\n"
     ]
    },
    {
     "name": "stderr",
     "output_type": "stream",
     "text": [
      "Evaluating group-wise accuracy:  56%|█████▌    | 14/25 [00:06<00:04,  2.21it/s]"
     ]
    },
    {
     "name": "stdout",
     "output_type": "stream",
     "text": [
      "Group (2, 3) Accuracy: 7.466666666666667\n"
     ]
    },
    {
     "name": "stderr",
     "output_type": "stream",
     "text": [
      "Evaluating group-wise accuracy:  60%|██████    | 15/25 [00:06<00:04,  2.21it/s]"
     ]
    },
    {
     "name": "stdout",
     "output_type": "stream",
     "text": [
      "Group (2, 4) Accuracy: 0.0\n"
     ]
    },
    {
     "name": "stderr",
     "output_type": "stream",
     "text": [
      "Evaluating group-wise accuracy:  64%|██████▍   | 16/25 [00:07<00:04,  2.19it/s]"
     ]
    },
    {
     "name": "stdout",
     "output_type": "stream",
     "text": [
      "Group (3, 0) Accuracy: 59.79899497487437\n"
     ]
    },
    {
     "name": "stderr",
     "output_type": "stream",
     "text": [
      "Evaluating group-wise accuracy:  68%|██████▊   | 17/25 [00:07<00:03,  2.19it/s]"
     ]
    },
    {
     "name": "stdout",
     "output_type": "stream",
     "text": [
      "Group (3, 1) Accuracy: 17.884130982367758\n"
     ]
    },
    {
     "name": "stderr",
     "output_type": "stream",
     "text": [
      "Evaluating group-wise accuracy:  72%|███████▏  | 18/25 [00:08<00:03,  2.22it/s]"
     ]
    },
    {
     "name": "stdout",
     "output_type": "stream",
     "text": [
      "Group (3, 2) Accuracy: 56.92695214105793\n"
     ]
    },
    {
     "name": "stderr",
     "output_type": "stream",
     "text": [
      "Evaluating group-wise accuracy:  76%|███████▌  | 19/25 [00:08<00:02,  2.25it/s]"
     ]
    },
    {
     "name": "stdout",
     "output_type": "stream",
     "text": [
      "Group (3, 3) Accuracy: 100.0\n"
     ]
    },
    {
     "name": "stderr",
     "output_type": "stream",
     "text": [
      "Evaluating group-wise accuracy:  80%|████████  | 20/25 [00:09<00:02,  2.23it/s]"
     ]
    },
    {
     "name": "stdout",
     "output_type": "stream",
     "text": [
      "Group (3, 4) Accuracy: 19.143576826196472\n"
     ]
    },
    {
     "name": "stderr",
     "output_type": "stream",
     "text": [
      "Evaluating group-wise accuracy:  84%|████████▍ | 21/25 [00:09<00:01,  2.22it/s]"
     ]
    },
    {
     "name": "stdout",
     "output_type": "stream",
     "text": [
      "Group (4, 0) Accuracy: 65.74307304785894\n"
     ]
    },
    {
     "name": "stderr",
     "output_type": "stream",
     "text": [
      "Evaluating group-wise accuracy:  88%|████████▊ | 22/25 [00:10<00:01,  2.19it/s]"
     ]
    },
    {
     "name": "stdout",
     "output_type": "stream",
     "text": [
      "Group (4, 1) Accuracy: 3.27455919395466\n"
     ]
    },
    {
     "name": "stderr",
     "output_type": "stream",
     "text": [
      "Evaluating group-wise accuracy:  92%|█████████▏| 23/25 [00:10<00:00,  2.18it/s]"
     ]
    },
    {
     "name": "stdout",
     "output_type": "stream",
     "text": [
      "Group (4, 2) Accuracy: 0.0\n"
     ]
    },
    {
     "name": "stderr",
     "output_type": "stream",
     "text": [
      "Evaluating group-wise accuracy:  96%|█████████▌| 24/25 [00:10<00:00,  2.19it/s]"
     ]
    },
    {
     "name": "stdout",
     "output_type": "stream",
     "text": [
      "Group (4, 3) Accuracy: 16.161616161616163\n"
     ]
    },
    {
     "name": "stderr",
     "output_type": "stream",
     "text": [
      "Evaluating group-wise accuracy: 100%|██████████| 25/25 [00:11<00:00,  2.20it/s]"
     ]
    },
    {
     "name": "stdout",
     "output_type": "stream",
     "text": [
      "Group (4, 4) Accuracy: 100.0\n"
     ]
    },
    {
     "name": "stderr",
     "output_type": "stream",
     "text": [
      "\n"
     ]
    },
    {
     "data": {
      "text/plain": [
       "{(0, 0): 99.76359338061465,\n",
       " (0, 1): 15.130023640661939,\n",
       " (0, 2): 59.810874704491724,\n",
       " (0, 3): 16.548463356973997,\n",
       " (0, 4): 56.973995271867615,\n",
       " (1, 0): 37.89731051344743,\n",
       " (1, 1): 100.0,\n",
       " (1, 2): 46.3235294117647,\n",
       " (1, 3): 9.558823529411764,\n",
       " (1, 4): 1.9607843137254901,\n",
       " (2, 0): 28.533333333333335,\n",
       " (2, 1): 20.8,\n",
       " (2, 2): 99.46666666666667,\n",
       " (2, 3): 7.466666666666667,\n",
       " (2, 4): 0.0,\n",
       " (3, 0): 59.79899497487437,\n",
       " (3, 1): 17.884130982367758,\n",
       " (3, 2): 56.92695214105793,\n",
       " (3, 3): 100.0,\n",
       " (3, 4): 19.143576826196472,\n",
       " (4, 0): 65.74307304785894,\n",
       " (4, 1): 3.27455919395466,\n",
       " (4, 2): 0.0,\n",
       " (4, 3): 16.161616161616163,\n",
       " (4, 4): 100.0}"
      ]
     },
     "execution_count": 67,
     "metadata": {},
     "output_type": "execute_result"
    }
   ],
   "source": [
    "from spuco.evaluate import Evaluator\n",
    "\n",
    "evaluator = Evaluator(\n",
    "    testset=testset,\n",
    "    group_partition=testset.group_partition,\n",
    "    group_weights=trainset.group_weights,\n",
    "    batch_size=64,\n",
    "    model=model_jtt,\n",
    "    device=device,\n",
    "    verbose=True\n",
    ")\n",
    "evaluator.evaluate()"
   ]
  },
  {
   "cell_type": "code",
   "execution_count": 68,
   "metadata": {},
   "outputs": [
    {
     "name": "stderr",
     "output_type": "stream",
     "text": [
      "Epoch 0:   0%|          | 0/1444 [00:00<?, ?batch/s]"
     ]
    },
    {
     "name": "stderr",
     "output_type": "stream",
     "text": [
      "Epoch 0: 100%|██████████| 1444/1444 [00:06<00:00, 213.15batch/s, accuracy=54.166666666666664%, loss=1.6]\n",
      "Epoch 1: 100%|██████████| 1444/1444 [00:06<00:00, 213.48batch/s, accuracy=50.0%, loss=1.64]    \n",
      "Epoch 2: 100%|██████████| 1444/1444 [00:06<00:00, 208.42batch/s, accuracy=33.333333333333336%, loss=2.24]\n",
      "Epoch 3: 100%|██████████| 1444/1444 [00:06<00:00, 210.40batch/s, accuracy=50.0%, loss=1.75]    \n",
      "Epoch 4: 100%|██████████| 1444/1444 [00:07<00:00, 204.99batch/s, accuracy=45.833333333333336%, loss=1.74]\n"
     ]
    }
   ],
   "source": [
    "from torch.optim import SGD\n",
    "from spuco.robust_train import UpSampleERM, DownSampleERM, CustomSampleERM\n",
    "\n",
    "jtt_train = UpSampleERM(\n",
    "    model=model_jtt,\n",
    "    num_epochs=5,\n",
    "    trainset=trainset,\n",
    "    batch_size=64,\n",
    "    group_partition=jtt_group_partition,\n",
    "    optimizer=SGD(model.parameters(), lr=1e-2, momentum=0.9, nesterov=False),\n",
    "    device=device,\n",
    "    verbose=True\n",
    ")\n",
    "jtt_train.train()"
   ]
  },
  {
   "cell_type": "code",
   "execution_count": 69,
   "metadata": {},
   "outputs": [
    {
     "name": "stderr",
     "output_type": "stream",
     "text": [
      "Evaluating group-wise accuracy:   0%|          | 0/25 [00:00<?, ?it/s]"
     ]
    },
    {
     "name": "stderr",
     "output_type": "stream",
     "text": [
      "Evaluating group-wise accuracy:   4%|▍         | 1/25 [00:00<00:11,  2.15it/s]"
     ]
    },
    {
     "name": "stdout",
     "output_type": "stream",
     "text": [
      "Group (0, 0) Accuracy: 99.76359338061465\n"
     ]
    },
    {
     "name": "stderr",
     "output_type": "stream",
     "text": [
      "Evaluating group-wise accuracy:   8%|▊         | 2/25 [00:00<00:11,  2.06it/s]"
     ]
    },
    {
     "name": "stdout",
     "output_type": "stream",
     "text": [
      "Group (0, 1) Accuracy: 15.130023640661939\n"
     ]
    },
    {
     "name": "stderr",
     "output_type": "stream",
     "text": [
      "Evaluating group-wise accuracy:  12%|█▏        | 3/25 [00:01<00:10,  2.03it/s]"
     ]
    },
    {
     "name": "stdout",
     "output_type": "stream",
     "text": [
      "Group (0, 2) Accuracy: 59.810874704491724\n"
     ]
    },
    {
     "name": "stderr",
     "output_type": "stream",
     "text": [
      "Evaluating group-wise accuracy:  16%|█▌        | 4/25 [00:01<00:10,  2.01it/s]"
     ]
    },
    {
     "name": "stdout",
     "output_type": "stream",
     "text": [
      "Group (0, 3) Accuracy: 16.548463356973997\n"
     ]
    },
    {
     "name": "stderr",
     "output_type": "stream",
     "text": [
      "Evaluating group-wise accuracy:  20%|██        | 5/25 [00:02<00:09,  2.04it/s]"
     ]
    },
    {
     "name": "stdout",
     "output_type": "stream",
     "text": [
      "Group (0, 4) Accuracy: 56.973995271867615\n"
     ]
    },
    {
     "name": "stderr",
     "output_type": "stream",
     "text": [
      "Evaluating group-wise accuracy:  24%|██▍       | 6/25 [00:02<00:09,  2.04it/s]"
     ]
    },
    {
     "name": "stdout",
     "output_type": "stream",
     "text": [
      "Group (1, 0) Accuracy: 37.89731051344743\n"
     ]
    },
    {
     "name": "stderr",
     "output_type": "stream",
     "text": [
      "Evaluating group-wise accuracy:  28%|██▊       | 7/25 [00:03<00:08,  2.04it/s]"
     ]
    },
    {
     "name": "stdout",
     "output_type": "stream",
     "text": [
      "Group (1, 1) Accuracy: 100.0\n"
     ]
    },
    {
     "name": "stderr",
     "output_type": "stream",
     "text": [
      "Evaluating group-wise accuracy:  32%|███▏      | 8/25 [00:03<00:08,  2.03it/s]"
     ]
    },
    {
     "name": "stdout",
     "output_type": "stream",
     "text": [
      "Group (1, 2) Accuracy: 46.3235294117647\n"
     ]
    },
    {
     "name": "stderr",
     "output_type": "stream",
     "text": [
      "Evaluating group-wise accuracy:  36%|███▌      | 9/25 [00:04<00:07,  2.03it/s]"
     ]
    },
    {
     "name": "stdout",
     "output_type": "stream",
     "text": [
      "Group (1, 3) Accuracy: 9.558823529411764\n"
     ]
    },
    {
     "name": "stderr",
     "output_type": "stream",
     "text": [
      "Evaluating group-wise accuracy:  40%|████      | 10/25 [00:04<00:07,  2.06it/s]"
     ]
    },
    {
     "name": "stdout",
     "output_type": "stream",
     "text": [
      "Group (1, 4) Accuracy: 1.9607843137254901\n"
     ]
    },
    {
     "name": "stderr",
     "output_type": "stream",
     "text": [
      "Evaluating group-wise accuracy:  44%|████▍     | 11/25 [00:05<00:06,  2.08it/s]"
     ]
    },
    {
     "name": "stdout",
     "output_type": "stream",
     "text": [
      "Group (2, 0) Accuracy: 28.533333333333335\n"
     ]
    },
    {
     "name": "stderr",
     "output_type": "stream",
     "text": [
      "Evaluating group-wise accuracy:  48%|████▊     | 12/25 [00:05<00:06,  2.08it/s]"
     ]
    },
    {
     "name": "stdout",
     "output_type": "stream",
     "text": [
      "Group (2, 1) Accuracy: 20.8\n"
     ]
    },
    {
     "name": "stderr",
     "output_type": "stream",
     "text": [
      "Evaluating group-wise accuracy:  52%|█████▏    | 13/25 [00:06<00:05,  2.09it/s]"
     ]
    },
    {
     "name": "stdout",
     "output_type": "stream",
     "text": [
      "Group (2, 2) Accuracy: 99.46666666666667\n"
     ]
    },
    {
     "name": "stderr",
     "output_type": "stream",
     "text": [
      "Evaluating group-wise accuracy:  56%|█████▌    | 14/25 [00:06<00:05,  2.10it/s]"
     ]
    },
    {
     "name": "stdout",
     "output_type": "stream",
     "text": [
      "Group (2, 3) Accuracy: 7.466666666666667\n"
     ]
    },
    {
     "name": "stderr",
     "output_type": "stream",
     "text": [
      "Evaluating group-wise accuracy:  60%|██████    | 15/25 [00:07<00:04,  2.14it/s]"
     ]
    },
    {
     "name": "stdout",
     "output_type": "stream",
     "text": [
      "Group (2, 4) Accuracy: 0.0\n"
     ]
    },
    {
     "name": "stderr",
     "output_type": "stream",
     "text": [
      "Evaluating group-wise accuracy:  64%|██████▍   | 16/25 [00:07<00:04,  2.12it/s]"
     ]
    },
    {
     "name": "stdout",
     "output_type": "stream",
     "text": [
      "Group (3, 0) Accuracy: 59.79899497487437\n"
     ]
    },
    {
     "name": "stderr",
     "output_type": "stream",
     "text": [
      "Evaluating group-wise accuracy:  68%|██████▊   | 17/25 [00:08<00:03,  2.09it/s]"
     ]
    },
    {
     "name": "stdout",
     "output_type": "stream",
     "text": [
      "Group (3, 1) Accuracy: 17.884130982367758\n"
     ]
    },
    {
     "name": "stderr",
     "output_type": "stream",
     "text": [
      "Evaluating group-wise accuracy:  72%|███████▏  | 18/25 [00:08<00:03,  2.06it/s]"
     ]
    },
    {
     "name": "stdout",
     "output_type": "stream",
     "text": [
      "Group (3, 2) Accuracy: 56.92695214105793\n"
     ]
    },
    {
     "name": "stderr",
     "output_type": "stream",
     "text": [
      "Evaluating group-wise accuracy:  76%|███████▌  | 19/25 [00:09<00:02,  2.03it/s]"
     ]
    },
    {
     "name": "stdout",
     "output_type": "stream",
     "text": [
      "Group (3, 3) Accuracy: 100.0\n"
     ]
    },
    {
     "name": "stderr",
     "output_type": "stream",
     "text": [
      "Evaluating group-wise accuracy:  80%|████████  | 20/25 [00:09<00:02,  2.02it/s]"
     ]
    },
    {
     "name": "stdout",
     "output_type": "stream",
     "text": [
      "Group (3, 4) Accuracy: 19.143576826196472\n"
     ]
    },
    {
     "name": "stderr",
     "output_type": "stream",
     "text": [
      "Evaluating group-wise accuracy:  84%|████████▍ | 21/25 [00:10<00:01,  2.01it/s]"
     ]
    },
    {
     "name": "stdout",
     "output_type": "stream",
     "text": [
      "Group (4, 0) Accuracy: 65.74307304785894\n"
     ]
    },
    {
     "name": "stderr",
     "output_type": "stream",
     "text": [
      "Evaluating group-wise accuracy:  88%|████████▊ | 22/25 [00:10<00:01,  2.03it/s]"
     ]
    },
    {
     "name": "stdout",
     "output_type": "stream",
     "text": [
      "Group (4, 1) Accuracy: 3.27455919395466\n"
     ]
    },
    {
     "name": "stderr",
     "output_type": "stream",
     "text": [
      "Evaluating group-wise accuracy:  92%|█████████▏| 23/25 [00:11<00:00,  2.05it/s]"
     ]
    },
    {
     "name": "stdout",
     "output_type": "stream",
     "text": [
      "Group (4, 2) Accuracy: 0.0\n"
     ]
    },
    {
     "name": "stderr",
     "output_type": "stream",
     "text": [
      "Evaluating group-wise accuracy:  96%|█████████▌| 24/25 [00:11<00:00,  2.05it/s]"
     ]
    },
    {
     "name": "stdout",
     "output_type": "stream",
     "text": [
      "Group (4, 3) Accuracy: 16.161616161616163\n"
     ]
    },
    {
     "name": "stderr",
     "output_type": "stream",
     "text": [
      "Evaluating group-wise accuracy: 100%|██████████| 25/25 [00:12<00:00,  2.06it/s]"
     ]
    },
    {
     "name": "stdout",
     "output_type": "stream",
     "text": [
      "Group (4, 4) Accuracy: 100.0\n"
     ]
    },
    {
     "name": "stderr",
     "output_type": "stream",
     "text": [
      "\n"
     ]
    },
    {
     "data": {
      "text/plain": [
       "{(0, 0): 99.76359338061465,\n",
       " (0, 1): 15.130023640661939,\n",
       " (0, 2): 59.810874704491724,\n",
       " (0, 3): 16.548463356973997,\n",
       " (0, 4): 56.973995271867615,\n",
       " (1, 0): 37.89731051344743,\n",
       " (1, 1): 100.0,\n",
       " (1, 2): 46.3235294117647,\n",
       " (1, 3): 9.558823529411764,\n",
       " (1, 4): 1.9607843137254901,\n",
       " (2, 0): 28.533333333333335,\n",
       " (2, 1): 20.8,\n",
       " (2, 2): 99.46666666666667,\n",
       " (2, 3): 7.466666666666667,\n",
       " (2, 4): 0.0,\n",
       " (3, 0): 59.79899497487437,\n",
       " (3, 1): 17.884130982367758,\n",
       " (3, 2): 56.92695214105793,\n",
       " (3, 3): 100.0,\n",
       " (3, 4): 19.143576826196472,\n",
       " (4, 0): 65.74307304785894,\n",
       " (4, 1): 3.27455919395466,\n",
       " (4, 2): 0.0,\n",
       " (4, 3): 16.161616161616163,\n",
       " (4, 4): 100.0}"
      ]
     },
     "execution_count": 69,
     "metadata": {},
     "output_type": "execute_result"
    }
   ],
   "source": [
    "from spuco.evaluate import Evaluator\n",
    "\n",
    "evaluator = Evaluator(\n",
    "    testset=testset,\n",
    "    group_partition=testset.group_partition,\n",
    "    group_weights=trainset.group_weights,\n",
    "    batch_size=64,\n",
    "    model=model_jtt,\n",
    "    device=device,\n",
    "    verbose=True\n",
    ")\n",
    "evaluator.evaluate()"
   ]
  },
  {
   "cell_type": "code",
   "execution_count": 77,
   "metadata": {},
   "outputs": [
    {
     "name": "stdout",
     "output_type": "stream",
     "text": [
      "(0, 0) 45559\n",
      "(0, 6) 1354\n",
      "(0, 1) 713\n",
      "(0, 2) 300\n",
      "(0, 3) 78\n"
     ]
    }
   ],
   "source": [
    "fgt_group_partition.keys()\n",
    "\n",
    "for group, members in fgt_group_partition.items():\n",
    "    print(group, len(members))"
   ]
  },
  {
   "cell_type": "code",
   "execution_count": 78,
   "metadata": {},
   "outputs": [
    {
     "name": "stderr",
     "output_type": "stream",
     "text": [
      "Epoch 0:   0%|          | 0/3560 [00:00<?, ?batch/s]"
     ]
    },
    {
     "name": "stderr",
     "output_type": "stream",
     "text": [
      "Epoch 0: 100%|██████████| 3560/3560 [00:15<00:00, 225.01batch/s, accuracy=42.10526315789474%, loss=1.75]\n",
      "Epoch 1: 100%|██████████| 3560/3560 [00:16<00:00, 209.74batch/s, accuracy=31.57894736842105%, loss=2.48]\n",
      "Epoch 2: 100%|██████████| 3560/3560 [00:16<00:00, 212.09batch/s, accuracy=57.89473684210526%, loss=0.905]\n",
      "Epoch 3: 100%|██████████| 3560/3560 [00:17<00:00, 205.44batch/s, accuracy=52.63157894736842%, loss=1.8]\n",
      "Epoch 4: 100%|██████████| 3560/3560 [00:16<00:00, 220.59batch/s, accuracy=63.1578947368421%, loss=0.741]\n"
     ]
    }
   ],
   "source": [
    "from torch.optim import SGD\n",
    "from spuco.robust_train import UpSampleERM, DownSampleERM, CustomSampleERM\n",
    "\n",
    "fgt_train = UpSampleERM(\n",
    "    model=model_fgt,\n",
    "    num_epochs=5,\n",
    "    trainset=trainset,\n",
    "    batch_size=64,\n",
    "    group_partition=fgt_group_partition,\n",
    "    optimizer=SGD(model.parameters(), lr=1e-2, momentum=0.9, nesterov=False),\n",
    "    device=device,\n",
    "    verbose=True\n",
    ")\n",
    "fgt_train.train()"
   ]
  },
  {
   "cell_type": "code",
   "execution_count": 46,
   "metadata": {},
   "outputs": [
    {
     "name": "stderr",
     "output_type": "stream",
     "text": [
      "Evaluating group-wise accuracy:   4%|▍         | 1/25 [00:00<00:07,  3.22it/s]"
     ]
    },
    {
     "name": "stdout",
     "output_type": "stream",
     "text": [
      "Group (0, 0) Accuracy: 100.0\n"
     ]
    },
    {
     "name": "stderr",
     "output_type": "stream",
     "text": [
      "Evaluating group-wise accuracy:   8%|▊         | 2/25 [00:00<00:07,  2.93it/s]"
     ]
    },
    {
     "name": "stdout",
     "output_type": "stream",
     "text": [
      "Group (0, 1) Accuracy: 30.260047281323878\n"
     ]
    },
    {
     "name": "stderr",
     "output_type": "stream",
     "text": [
      "Evaluating group-wise accuracy:  12%|█▏        | 3/25 [00:01<00:07,  2.80it/s]"
     ]
    },
    {
     "name": "stdout",
     "output_type": "stream",
     "text": [
      "Group (0, 2) Accuracy: 70.92198581560284\n"
     ]
    },
    {
     "name": "stderr",
     "output_type": "stream",
     "text": [
      "Evaluating group-wise accuracy:  16%|█▌        | 4/25 [00:01<00:07,  2.78it/s]"
     ]
    },
    {
     "name": "stdout",
     "output_type": "stream",
     "text": [
      "Group (0, 3) Accuracy: 28.13238770685579\n"
     ]
    },
    {
     "name": "stderr",
     "output_type": "stream",
     "text": [
      "Evaluating group-wise accuracy:  20%|██        | 5/25 [00:01<00:07,  2.83it/s]"
     ]
    },
    {
     "name": "stdout",
     "output_type": "stream",
     "text": [
      "Group (0, 4) Accuracy: 72.57683215130024\n"
     ]
    },
    {
     "name": "stderr",
     "output_type": "stream",
     "text": [
      "Evaluating group-wise accuracy:  24%|██▍       | 6/25 [00:02<00:06,  2.83it/s]"
     ]
    },
    {
     "name": "stdout",
     "output_type": "stream",
     "text": [
      "Group (1, 0) Accuracy: 61.858190709046454\n"
     ]
    },
    {
     "name": "stderr",
     "output_type": "stream",
     "text": [
      "Evaluating group-wise accuracy:  28%|██▊       | 7/25 [00:02<00:06,  2.83it/s]"
     ]
    },
    {
     "name": "stdout",
     "output_type": "stream",
     "text": [
      "Group (1, 1) Accuracy: 100.0\n"
     ]
    },
    {
     "name": "stderr",
     "output_type": "stream",
     "text": [
      "Evaluating group-wise accuracy:  32%|███▏      | 8/25 [00:02<00:05,  2.87it/s]"
     ]
    },
    {
     "name": "stdout",
     "output_type": "stream",
     "text": [
      "Group (1, 2) Accuracy: 42.64705882352941\n"
     ]
    },
    {
     "name": "stderr",
     "output_type": "stream",
     "text": [
      "Evaluating group-wise accuracy:  36%|███▌      | 9/25 [00:03<00:05,  2.86it/s]"
     ]
    },
    {
     "name": "stdout",
     "output_type": "stream",
     "text": [
      "Group (1, 3) Accuracy: 23.03921568627451\n"
     ]
    },
    {
     "name": "stderr",
     "output_type": "stream",
     "text": [
      "Evaluating group-wise accuracy:  40%|████      | 10/25 [00:03<00:05,  2.87it/s]"
     ]
    },
    {
     "name": "stdout",
     "output_type": "stream",
     "text": [
      "Group (1, 4) Accuracy: 7.8431372549019605\n"
     ]
    },
    {
     "name": "stderr",
     "output_type": "stream",
     "text": [
      "Evaluating group-wise accuracy:  44%|████▍     | 11/25 [00:03<00:04,  2.85it/s]"
     ]
    },
    {
     "name": "stdout",
     "output_type": "stream",
     "text": [
      "Group (2, 0) Accuracy: 38.4\n"
     ]
    },
    {
     "name": "stderr",
     "output_type": "stream",
     "text": [
      "Evaluating group-wise accuracy:  48%|████▊     | 12/25 [00:04<00:04,  2.86it/s]"
     ]
    },
    {
     "name": "stdout",
     "output_type": "stream",
     "text": [
      "Group (2, 1) Accuracy: 11.733333333333333\n"
     ]
    },
    {
     "name": "stderr",
     "output_type": "stream",
     "text": [
      "Evaluating group-wise accuracy:  52%|█████▏    | 13/25 [00:04<00:04,  2.89it/s]"
     ]
    },
    {
     "name": "stdout",
     "output_type": "stream",
     "text": [
      "Group (2, 2) Accuracy: 99.46666666666667\n"
     ]
    },
    {
     "name": "stderr",
     "output_type": "stream",
     "text": [
      "Evaluating group-wise accuracy:  56%|█████▌    | 14/25 [00:04<00:03,  2.93it/s]"
     ]
    },
    {
     "name": "stdout",
     "output_type": "stream",
     "text": [
      "Group (2, 3) Accuracy: 6.666666666666667\n"
     ]
    },
    {
     "name": "stderr",
     "output_type": "stream",
     "text": [
      "Evaluating group-wise accuracy:  60%|██████    | 15/25 [00:05<00:03,  2.92it/s]"
     ]
    },
    {
     "name": "stdout",
     "output_type": "stream",
     "text": [
      "Group (2, 4) Accuracy: 0.0\n"
     ]
    },
    {
     "name": "stderr",
     "output_type": "stream",
     "text": [
      "Evaluating group-wise accuracy:  64%|██████▍   | 16/25 [00:05<00:03,  2.92it/s]"
     ]
    },
    {
     "name": "stdout",
     "output_type": "stream",
     "text": [
      "Group (3, 0) Accuracy: 50.753768844221106\n"
     ]
    },
    {
     "name": "stderr",
     "output_type": "stream",
     "text": [
      "Evaluating group-wise accuracy:  68%|██████▊   | 17/25 [00:05<00:02,  2.87it/s]"
     ]
    },
    {
     "name": "stdout",
     "output_type": "stream",
     "text": [
      "Group (3, 1) Accuracy: 4.534005037783375\n"
     ]
    },
    {
     "name": "stderr",
     "output_type": "stream",
     "text": [
      "Evaluating group-wise accuracy:  72%|███████▏  | 18/25 [00:06<00:02,  2.89it/s]"
     ]
    },
    {
     "name": "stdout",
     "output_type": "stream",
     "text": [
      "Group (3, 2) Accuracy: 55.415617128463474\n"
     ]
    },
    {
     "name": "stderr",
     "output_type": "stream",
     "text": [
      "Evaluating group-wise accuracy:  76%|███████▌  | 19/25 [00:06<00:02,  2.84it/s]"
     ]
    },
    {
     "name": "stdout",
     "output_type": "stream",
     "text": [
      "Group (3, 3) Accuracy: 99.49622166246851\n"
     ]
    },
    {
     "name": "stderr",
     "output_type": "stream",
     "text": [
      "Evaluating group-wise accuracy:  80%|████████  | 20/25 [00:06<00:01,  2.83it/s]"
     ]
    },
    {
     "name": "stdout",
     "output_type": "stream",
     "text": [
      "Group (3, 4) Accuracy: 79.34508816120906\n"
     ]
    },
    {
     "name": "stderr",
     "output_type": "stream",
     "text": [
      "Evaluating group-wise accuracy:  84%|████████▍ | 21/25 [00:07<00:01,  2.83it/s]"
     ]
    },
    {
     "name": "stdout",
     "output_type": "stream",
     "text": [
      "Group (4, 0) Accuracy: 36.77581863979849\n"
     ]
    },
    {
     "name": "stderr",
     "output_type": "stream",
     "text": [
      "Evaluating group-wise accuracy:  88%|████████▊ | 22/25 [00:07<00:01,  2.89it/s]"
     ]
    },
    {
     "name": "stdout",
     "output_type": "stream",
     "text": [
      "Group (4, 1) Accuracy: 0.0\n"
     ]
    },
    {
     "name": "stderr",
     "output_type": "stream",
     "text": [
      "Evaluating group-wise accuracy:  92%|█████████▏| 23/25 [00:07<00:00,  2.92it/s]"
     ]
    },
    {
     "name": "stdout",
     "output_type": "stream",
     "text": [
      "Group (4, 2) Accuracy: 0.0\n"
     ]
    },
    {
     "name": "stderr",
     "output_type": "stream",
     "text": [
      "Evaluating group-wise accuracy:  96%|█████████▌| 24/25 [00:08<00:00,  2.93it/s]"
     ]
    },
    {
     "name": "stdout",
     "output_type": "stream",
     "text": [
      "Group (4, 3) Accuracy: 6.313131313131313\n"
     ]
    },
    {
     "name": "stderr",
     "output_type": "stream",
     "text": [
      "Evaluating group-wise accuracy: 100%|██████████| 25/25 [00:08<00:00,  2.87it/s]"
     ]
    },
    {
     "name": "stdout",
     "output_type": "stream",
     "text": [
      "Group (4, 4) Accuracy: 97.97979797979798\n"
     ]
    },
    {
     "name": "stderr",
     "output_type": "stream",
     "text": [
      "\n"
     ]
    },
    {
     "data": {
      "text/plain": [
       "{(0, 0): 100.0,\n",
       " (0, 1): 30.260047281323878,\n",
       " (0, 2): 70.92198581560284,\n",
       " (0, 3): 28.13238770685579,\n",
       " (0, 4): 72.57683215130024,\n",
       " (1, 0): 61.858190709046454,\n",
       " (1, 1): 100.0,\n",
       " (1, 2): 42.64705882352941,\n",
       " (1, 3): 23.03921568627451,\n",
       " (1, 4): 7.8431372549019605,\n",
       " (2, 0): 38.4,\n",
       " (2, 1): 11.733333333333333,\n",
       " (2, 2): 99.46666666666667,\n",
       " (2, 3): 6.666666666666667,\n",
       " (2, 4): 0.0,\n",
       " (3, 0): 50.753768844221106,\n",
       " (3, 1): 4.534005037783375,\n",
       " (3, 2): 55.415617128463474,\n",
       " (3, 3): 99.49622166246851,\n",
       " (3, 4): 79.34508816120906,\n",
       " (4, 0): 36.77581863979849,\n",
       " (4, 1): 0.0,\n",
       " (4, 2): 0.0,\n",
       " (4, 3): 6.313131313131313,\n",
       " (4, 4): 97.97979797979798}"
      ]
     },
     "execution_count": 46,
     "metadata": {},
     "output_type": "execute_result"
    }
   ],
   "source": [
    "from spuco.evaluate import Evaluator\n",
    "\n",
    "evaluator = Evaluator(\n",
    "    testset=testset,\n",
    "    group_partition=testset.group_partition,\n",
    "    group_weights=trainset.group_weights,\n",
    "    batch_size=64,\n",
    "    model=model_fgt,\n",
    "    device=device,\n",
    "    verbose=True\n",
    ")\n",
    "evaluator.evaluate()"
   ]
  },
  {
   "cell_type": "code",
   "execution_count": 49,
   "metadata": {},
   "outputs": [
    {
     "data": {
      "text/plain": [
       "95.97156158648662"
      ]
     },
     "execution_count": 49,
     "metadata": {},
     "output_type": "execute_result"
    }
   ],
   "source": [
    "evaluator.average_accuracy"
   ]
  },
  {
   "cell_type": "code",
   "execution_count": null,
   "metadata": {},
   "outputs": [],
   "source": []
  }
 ],
 "metadata": {
  "kernelspec": {
   "display_name": "spuco",
   "language": "python",
   "name": "python3"
  },
  "language_info": {
   "codemirror_mode": {
    "name": "ipython",
    "version": 3
   },
   "file_extension": ".py",
   "mimetype": "text/x-python",
   "name": "python",
   "nbconvert_exporter": "python",
   "pygments_lexer": "ipython3",
   "version": "3.10.12"
  }
 },
 "nbformat": 4,
 "nbformat_minor": 2
}
