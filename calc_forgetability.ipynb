{
 "cells": [
  {
   "cell_type": "code",
   "execution_count": 2,
   "metadata": {},
   "outputs": [],
   "source": [
    "import torch\n",
    "\n",
    "device = torch.device(\"cuda\")"
   ]
  },
  {
   "cell_type": "code",
   "execution_count": 3,
   "metadata": {},
   "outputs": [],
   "source": [
    "from spuco.utils import set_seed\n",
    "\n",
    "set_seed(0)"
   ]
  },
  {
   "cell_type": "code",
   "execution_count": 1,
   "metadata": {},
   "outputs": [
    {
     "name": "stderr",
     "output_type": "stream",
     "text": [
      "/home/yeutong/miniconda3/envs/spuco/lib/python3.10/site-packages/tqdm/auto.py:21: TqdmWarning: IProgress not found. Please update jupyter and ipywidgets. See https://ipywidgets.readthedocs.io/en/stable/user_install.html\n",
      "  from .autonotebook import tqdm as notebook_tqdm\n",
      "100%|██████████| 48004/48004 [00:04<00:00, 9904.13it/s] \n",
      "100%|██████████| 10000/10000 [00:00<00:00, 10163.40it/s]\n"
     ]
    }
   ],
   "source": [
    "from spuco.robust_train import ERM\n",
    "from spuco.datasets import SpuCoMNIST, SpuriousFeatureDifficulty\n",
    "import torchvision.transforms as T\n",
    "\n",
    "classes = [[0, 1], [2, 3], [4, 5], [6, 7], [8, 9]]\n",
    "difficulty = SpuriousFeatureDifficulty.MAGNITUDE_LARGE\n",
    "root = \"data/mnist/\"\n",
    "\n",
    "trainset = SpuCoMNIST(\n",
    "    root=root,\n",
    "    spurious_feature_difficulty=difficulty,\n",
    "    spurious_correlation_strength=0.95,\n",
    "    classes=classes,\n",
    "    split=\"train\",\n",
    "    label_noise=0.001\n",
    ")\n",
    "trainset.initialize()\n",
    "\n",
    "testset = SpuCoMNIST(\n",
    "    root=root,\n",
    "    spurious_feature_difficulty=difficulty,\n",
    "    classes=classes,\n",
    "    split=\"test\"\n",
    ")\n",
    "testset.initialize()\n"
   ]
  },
  {
   "cell_type": "code",
   "execution_count": 4,
   "metadata": {},
   "outputs": [
    {
     "name": "stderr",
     "output_type": "stream",
     "text": [
      "100%|██████████| 11996/11996 [00:01<00:00, 10213.43it/s]\n"
     ]
    }
   ],
   "source": [
    "from spuco.datasets import SpuCoMNIST, SpuriousFeatureDifficulty\n",
    "\n",
    "classes = [[0, 1], [2, 3], [4, 5], [6, 7], [8, 9]]\n",
    "\n",
    "valset = SpuCoMNIST(\n",
    "    root=root,\n",
    "    spurious_feature_difficulty=difficulty,\n",
    "    classes=classes,\n",
    "    split=\"val\"\n",
    ")\n",
    "valset.initialize()\n"
   ]
  },
  {
   "cell_type": "code",
   "execution_count": 5,
   "metadata": {},
   "outputs": [
    {
     "data": {
      "image/jpeg": "[encoded data removed]",
      "image/png": "[encoded data removed]",
      "text/plain": [
       "<PIL.Image.Image image mode=RGB size=28x28>"
      ]
     },
     "execution_count": 5,
     "metadata": {},
     "output_type": "execute_result"
    }
   ],
   "source": [
    "T.ToPILImage()(trainset[1000][0]).resize((28,28))"
   ]
  },
  {
   "cell_type": "code",
   "execution_count": 6,
   "metadata": {},
   "outputs": [],
   "source": [
    "import torch\n",
    "import torch.nn as nn\n",
    "import torch.optim as optim\n",
    "from torch.utils.data import Subset, DataLoader\n",
    "from spuco.robust_train import ERM\n",
    "from spuco.datasets import SpuCoMNIST, SpuriousFeatureDifficulty\n",
    "import torchvision.transforms as T\n",
    "import numpy as np"
   ]
  },
  {
   "cell_type": "code",
   "execution_count": 7,
   "metadata": {},
   "outputs": [],
   "source": [
    "train_loader = DataLoader(trainset, batch_size=64, shuffle=True)\n",
    "not_shuffle_train_loader = DataLoader(trainset, batch_size=64, shuffle=False)\n",
    "test_loader = DataLoader(testset, batch_size=64, shuffle=False)"
   ]
  },
  {
   "cell_type": "code",
   "execution_count": 8,
   "metadata": {},
   "outputs": [
    {
     "name": "stdout",
     "output_type": "stream",
     "text": [
      "Epoch 1/10, Train Acc: 0.9503, Test Acc: 0.2230\n",
      "Epoch 2/10, Train Acc: 0.9513, Test Acc: 0.2658\n",
      "Epoch 3/10, Train Acc: 0.9541, Test Acc: 0.2900\n",
      "Epoch 4/10, Train Acc: 0.9560, Test Acc: 0.3162\n",
      "Epoch 5/10, Train Acc: 0.9558, Test Acc: 0.3123\n",
      "Epoch 6/10, Train Acc: 0.9603, Test Acc: 0.3962\n",
      "Epoch 7/10, Train Acc: 0.9611, Test Acc: 0.3883\n",
      "Epoch 8/10, Train Acc: 0.9643, Test Acc: 0.4568\n",
      "Epoch 9/10, Train Acc: 0.9617, Test Acc: 0.3965\n",
      "Epoch 10/10, Train Acc: 0.9656, Test Acc: 0.4737\n"
     ]
    }
   ],
   "source": [
    "from spuco.models import model_factory\n",
    "\n",
    "# model = model_factory(\"lenet\", trainset[0][0].shape, trainset.num_classes).to(device)\n",
    "model = model_factory(\"mlp\", trainset[0][0].shape, trainset.num_classes).to(device)\n",
    "\n",
    "from spuco.evaluate import Evaluator\n",
    "\n",
    "# Initialize the model and optimizer\n",
    "# optimizer = optim.Adam(model.parameters(), lr=0.001)\n",
    "optimizer = optim.SGD(model.parameters(), lr=1e-2, momentum=0.9, nesterov=False)\n",
    "\n",
    "# Training loop\n",
    "device = torch.device(\"cuda\" if torch.cuda.is_available() else \"cpu\")\n",
    "model.to(device)\n",
    "criterion = nn.CrossEntropyLoss()\n",
    "num_epochs = 10\n",
    "# train_predictions_history = [[] for _ in range(len(trainset))]\n",
    "# test_predictions_history = [[] for _ in range(len(testset))]\n",
    "train_acc_history_lst = []\n",
    "test_acc_history_lst = []\n",
    "\n",
    "# Training function\n",
    "def train(model, train_loader, optimizer, criterion, device):\n",
    "    model.train()\n",
    "    for batch_idx, (data, target) in enumerate(train_loader):\n",
    "        data, target = data.to(device), target.to(device)\n",
    "        optimizer.zero_grad()\n",
    "        output = model(data)\n",
    "        loss = criterion(output, target)\n",
    "        loss.backward()\n",
    "        optimizer.step()\n",
    "\n",
    "# Evaluation function\n",
    "def evaluate(model, data_loader, criterion, device):\n",
    "    model.eval()\n",
    "    correct = 0\n",
    "    total = 0\n",
    "    predictions = []\n",
    "    acc_history = []\n",
    "    with torch.no_grad():\n",
    "        for data, target in data_loader:\n",
    "            data, target = data.to(device), target.to(device)\n",
    "            output = model(data)\n",
    "            _, predicted = torch.max(output.data, 1)\n",
    "            total += target.size(0)\n",
    "            correct += (predicted == target).sum().item()\n",
    "            acc_history.extend((predicted == target).cpu().numpy())\n",
    "            predictions.extend(predicted.cpu().numpy())\n",
    "    return correct / total, acc_history\n",
    "\n",
    "# Calculate forgetability scores\n",
    "def calculate_forgetability(predictions_history):\n",
    "    forgetability_scores = []\n",
    "    for sample_predictions in predictions_history:\n",
    "        correct_to_incorrect = 0\n",
    "        for i in range(1, len(sample_predictions)):\n",
    "            if sample_predictions[i-1] == 1 and sample_predictions[i] == 0:\n",
    "                correct_to_incorrect += 1\n",
    "\n",
    "        if sum(sample_predictions) == 0:\n",
    "            correct_to_incorrect = (num_epochs // 2) + 1\n",
    "        forgetability_scores.append(correct_to_incorrect)\n",
    "    return forgetability_scores\n",
    "\n",
    "\n",
    "\n",
    "for epoch in range(num_epochs):\n",
    "    train(model, train_loader, optimizer, criterion, device)\n",
    "    train_acc, train_acc_history = evaluate(model, not_shuffle_train_loader, criterion, device)\n",
    "    test_acc, test_acc_history = evaluate(model, test_loader, criterion, device)\n",
    "\n",
    "    print(f\"Epoch {epoch+1}/{num_epochs}, Train Acc: {train_acc:.4f}, Test Acc: {test_acc:.4f}\")\n",
    "\n",
    "    train_acc_history_lst.append(train_acc_history)\n",
    "    test_acc_history_lst.append(test_acc_history)\n",
    "\n"
   ]
  },
  {
   "cell_type": "code",
   "execution_count": 9,
   "metadata": {},
   "outputs": [],
   "source": [
    "train_acc_history_lst = np.array(train_acc_history_lst).T\n",
    "train_forgetability_scores = calculate_forgetability(train_acc_history_lst)\n"
   ]
  },
  {
   "cell_type": "code",
   "execution_count": 10,
   "metadata": {},
   "outputs": [
    {
     "name": "stdout",
     "output_type": "stream",
     "text": [
      "Trainset accuracy for each group\n",
      "(2, 2) 1.0000 0.9999 0.9991 0.9987 0.9995 0.9975 0.9996 0.9981 0.9985 0.9970 \n",
      "(0, 0) 0.9994 0.9886 0.9994 0.9996 0.9978 0.9983 0.9986 0.9969 0.9984 0.9981 \n",
      "(4, 4) 1.0000 1.0000 1.0000 0.9990 1.0000 1.0000 0.9997 0.9992 0.9996 0.9997 \n",
      "(1, 1) 1.0000 1.0000 0.9997 1.0000 0.9997 1.0000 0.9995 0.9995 0.9998 0.9977 \n",
      "(3, 3) 1.0000 1.0000 0.9975 0.9990 0.9972 0.9948 0.9981 0.9956 0.9995 0.9963 \n",
      "(3, 1) 0.0000 0.0000 0.0551 0.0000 0.0787 0.0000 0.1181 0.1575 0.1024 0.2835 \n",
      "(0, 2) 0.0000 0.0000 0.1440 0.2800 0.1360 0.5440 0.1520 0.5520 0.3760 0.6960 \n",
      "(1, 0) 0.0896 0.6940 0.2015 0.3358 0.2239 0.5522 0.5000 0.5448 0.5746 0.6567 \n",
      "(0, 4) 0.0000 0.0000 0.0667 0.3259 0.0444 0.1333 0.3333 0.5704 0.3630 0.5185 \n",
      "(2, 1) 0.0000 0.0278 0.1481 0.0185 0.0648 0.0463 0.2778 0.2870 0.2778 0.3796 \n",
      "(2, 3) 0.0000 0.0000 0.0943 0.0000 0.0094 0.2736 0.2453 0.1887 0.0943 0.0943 \n",
      "(3, 4) 0.0000 0.0000 0.0000 0.3590 0.0000 0.0000 0.1966 0.1453 0.1368 0.2222 \n",
      "(1, 3) 0.0000 0.0000 0.2059 0.2426 0.1985 0.2721 0.3162 0.4632 0.2132 0.3971 \n",
      "(0, 1) 0.0000 0.0000 0.0342 0.0513 0.0000 0.0855 0.2821 0.1197 0.1709 0.6154 \n",
      "(4, 2) 0.0000 0.0000 0.0000 0.0000 0.0000 0.0000 0.0000 0.0000 0.0000 0.0000 \n",
      "(4, 0) 0.4179 0.8209 0.1716 0.2388 0.7687 0.6642 0.6791 0.4403 0.5821 0.6642 \n",
      "(2, 0) 0.0000 0.0000 0.3103 0.2069 0.0172 0.4310 0.3793 0.5776 0.5603 0.3448 \n",
      "(4, 1) 0.0000 0.0000 0.0000 0.0000 0.0885 0.0000 0.0000 0.0000 0.0000 0.0354 \n",
      "(0, 3) 0.0000 0.0000 0.2590 0.2374 0.2374 0.7050 0.4604 0.7194 0.3525 0.8201 \n",
      "(4, 3) 0.0085 0.0427 0.1368 0.1624 0.4188 0.3504 0.2650 0.4274 0.0256 0.2222 \n",
      "(3, 0) 0.0000 0.0000 0.0902 0.0410 0.5082 0.4590 0.4672 0.7541 0.5820 0.6230 \n",
      "(2, 4) 0.0000 0.0000 0.0000 0.0000 0.0000 0.0000 0.0000 0.0000 0.0000 0.0000 \n",
      "(3, 2) 0.0000 0.0000 0.1395 0.0930 0.0775 0.1008 0.1008 0.2016 0.3876 0.2636 \n",
      "(1, 4) 0.0000 0.0000 0.0000 0.0000 0.0000 0.0000 0.0156 0.0078 0.1875 0.0547 \n",
      "(1, 2) 0.0000 0.1042 0.2604 0.3750 0.1146 0.4271 0.2083 0.5729 0.1667 0.2604 \n"
     ]
    }
   ],
   "source": [
    "# group accuracy for the last epoch\n",
    "print(\"Trainset accuracy for each group\")\n",
    "for group, members in trainset.group_partition.items():\n",
    "    print(group, end=' ')\n",
    "    for epoch in range(10):\n",
    "        group_score = train_acc_history_lst[members, epoch]\n",
    "        print(f\"{group_score.mean():.4f}\", end=' ')\n",
    "    print()"
   ]
  },
  {
   "cell_type": "code",
   "execution_count": 11,
   "metadata": {},
   "outputs": [
    {
     "name": "stdout",
     "output_type": "stream",
     "text": [
      "Trainset forgetability score each group\n",
      "(2, 2) 0.007486255702421336\n",
      "(0, 0) 0.017151767151767153\n",
      "(4, 4) 0.0018983807928531547\n",
      "(1, 1) 0.0034854591003158695\n",
      "(3, 3) 0.013187763485028646\n",
      "(3, 1) 4.503937007874016\n",
      "(0, 2) 2.488\n",
      "(1, 0) 2.246268656716418\n",
      "(0, 4) 3.066666666666667\n",
      "(2, 1) 3.787037037037037\n",
      "(2, 3) 4.433962264150943\n",
      "(3, 4) 4.282051282051282\n",
      "(1, 3) 3.4705882352941178\n",
      "(0, 1) 2.5213675213675213\n",
      "(4, 2) 6.0\n",
      "(4, 0) 2.037313432835821\n",
      "(2, 0) 3.0172413793103448\n",
      "(4, 1) 5.345132743362832\n",
      "(0, 3) 1.7050359712230216\n",
      "(4, 3) 3.8547008547008548\n",
      "(3, 0) 1.8032786885245902\n",
      "(2, 4) 6.0\n",
      "(3, 2) 3.89922480620155\n",
      "(1, 4) 5.015625\n",
      "(1, 2) 3.3854166666666665\n"
     ]
    }
   ],
   "source": [
    "print(\"Trainset forgetability score each group\")\n",
    "train_forgetability_scores = np.array(train_forgetability_scores)\n",
    "count = 0\n",
    "for group, members in trainset.group_partition.items():\n",
    "    group_score = train_forgetability_scores[members]\n",
    "    print(group, group_score.mean())\n"
   ]
  },
  {
   "cell_type": "code",
   "execution_count": 62,
   "metadata": {},
   "outputs": [
    {
     "data": {
      "text/plain": [
       "(48004,)"
      ]
     },
     "execution_count": 62,
     "metadata": {},
     "output_type": "execute_result"
    }
   ],
   "source": [
    "train_forgetability_scores.shape"
   ]
  },
  {
   "cell_type": "code",
   "execution_count": 63,
   "metadata": {},
   "outputs": [
    {
     "data": {
      "text/plain": [
       "(48004,)"
      ]
     },
     "execution_count": 63,
     "metadata": {},
     "output_type": "execute_result"
    }
   ],
   "source": [
    "train_acc_history_lst[:, -1].shape"
   ]
  },
  {
   "cell_type": "code",
   "execution_count": 13,
   "metadata": {},
   "outputs": [],
   "source": [
    "# group correct into (0,0), and incorrect into (1,1)\n",
    "\n",
    "jtt_group_partition = {(0,0): [], (0,1): []}\n",
    "for i in range(train_acc_history_lst.shape[0]):\n",
    "    if train_acc_history_lst[i, -1]: # correct\n",
    "        jtt_group_partition[(0,0)].append(i)\n",
    "    else: # incorrect\n",
    "        jtt_group_partition[(0,1)].append(i)"
   ]
  },
  {
   "cell_type": "code",
   "execution_count": 15,
   "metadata": {},
   "outputs": [],
   "source": [
    "from collections import defaultdict\n",
    "\n",
    "# fgt_group_partition = {(0, i): [] for i in range(7)}\n",
    "fgt_group_partition = defaultdict(list)\n",
    "for i in range(train_forgetability_scores.shape[0]):\n",
    "    if train_forgetability_scores[i] >= 1: # forgettable\n",
    "        fgt_group_partition[(0,1)].append(i)\n",
    "    else: # not forgettable\n",
    "        fgt_group_partition[(0,0)].append(i)\n",
    "\n",
    "    # group = (0, train_forgetability_scores[i].item())\n",
    "    # if group not in fgt_group_partition:\n",
    "    #     fgt_group_partition[group] = []\n",
    "    # fgt_group_partition[group].append(i)"
   ]
  },
  {
   "cell_type": "code",
   "execution_count": 16,
   "metadata": {},
   "outputs": [
    {
     "data": {
      "text/plain": [
       "<All keys matched successfully>"
      ]
     },
     "execution_count": 16,
     "metadata": {},
     "output_type": "execute_result"
    }
   ],
   "source": [
    "import copy\n",
    "\n",
    "# clone model\n",
    "model_jtt = model_factory(\"mlp\", trainset[0][0].shape, trainset.num_classes).to(device)\n",
    "model_fgt = model_factory(\"mlp\", trainset[0][0].shape, trainset.num_classes).to(device)\n",
    "\n",
    "model_jtt.load_state_dict(copy.deepcopy(model.state_dict()))\n",
    "model_fgt.load_state_dict(copy.deepcopy(model.state_dict()))\n"
   ]
  },
  {
   "cell_type": "code",
   "execution_count": 17,
   "metadata": {},
   "outputs": [
    {
     "name": "stderr",
     "output_type": "stream",
     "text": [
      "Evaluating group-wise accuracy:   0%|          | 0/25 [00:00<?, ?it/s]"
     ]
    },
    {
     "name": "stderr",
     "output_type": "stream",
     "text": [
      "Evaluating group-wise accuracy:   4%|▍         | 1/25 [00:00<00:08,  2.99it/s]"
     ]
    },
    {
     "name": "stdout",
     "output_type": "stream",
     "text": [
      "Group (0, 0) Accuracy: 99.76359338061465\n"
     ]
    },
    {
     "name": "stderr",
     "output_type": "stream",
     "text": [
      "Evaluating group-wise accuracy:   8%|▊         | 2/25 [00:00<00:07,  3.00it/s]"
     ]
    },
    {
     "name": "stdout",
     "output_type": "stream",
     "text": [
      "Group (0, 1) Accuracy: 53.90070921985816\n"
     ]
    },
    {
     "name": "stderr",
     "output_type": "stream",
     "text": [
      "Evaluating group-wise accuracy:  12%|█▏        | 3/25 [00:00<00:07,  3.08it/s]"
     ]
    },
    {
     "name": "stdout",
     "output_type": "stream",
     "text": [
      "Group (0, 2) Accuracy: 66.19385342789599\n"
     ]
    },
    {
     "name": "stderr",
     "output_type": "stream",
     "text": [
      "Evaluating group-wise accuracy:  16%|█▌        | 4/25 [00:01<00:06,  3.03it/s]"
     ]
    },
    {
     "name": "stdout",
     "output_type": "stream",
     "text": [
      "Group (0, 3) Accuracy: 78.01418439716312\n"
     ]
    },
    {
     "name": "stderr",
     "output_type": "stream",
     "text": [
      "Evaluating group-wise accuracy:  20%|██        | 5/25 [00:01<00:06,  2.96it/s]"
     ]
    },
    {
     "name": "stdout",
     "output_type": "stream",
     "text": [
      "Group (0, 4) Accuracy: 59.1016548463357\n"
     ]
    },
    {
     "name": "stderr",
     "output_type": "stream",
     "text": [
      "Evaluating group-wise accuracy:  24%|██▍       | 6/25 [00:02<00:06,  2.94it/s]"
     ]
    },
    {
     "name": "stdout",
     "output_type": "stream",
     "text": [
      "Group (1, 0) Accuracy: 58.924205378973106\n"
     ]
    },
    {
     "name": "stderr",
     "output_type": "stream",
     "text": [
      "Evaluating group-wise accuracy:  28%|██▊       | 7/25 [00:02<00:06,  2.97it/s]"
     ]
    },
    {
     "name": "stdout",
     "output_type": "stream",
     "text": [
      "Group (1, 1) Accuracy: 100.0\n"
     ]
    },
    {
     "name": "stderr",
     "output_type": "stream",
     "text": [
      "Evaluating group-wise accuracy:  32%|███▏      | 8/25 [00:02<00:05,  2.94it/s]"
     ]
    },
    {
     "name": "stdout",
     "output_type": "stream",
     "text": [
      "Group (1, 2) Accuracy: 23.529411764705884\n"
     ]
    },
    {
     "name": "stderr",
     "output_type": "stream",
     "text": [
      "Evaluating group-wise accuracy:  36%|███▌      | 9/25 [00:03<00:05,  2.95it/s]"
     ]
    },
    {
     "name": "stdout",
     "output_type": "stream",
     "text": [
      "Group (1, 3) Accuracy: 34.068627450980394\n"
     ]
    },
    {
     "name": "stderr",
     "output_type": "stream",
     "text": [
      "Evaluating group-wise accuracy:  40%|████      | 10/25 [00:03<00:05,  2.86it/s]"
     ]
    },
    {
     "name": "stdout",
     "output_type": "stream",
     "text": [
      "Group (1, 4) Accuracy: 7.598039215686274\n"
     ]
    },
    {
     "name": "stderr",
     "output_type": "stream",
     "text": [
      "Evaluating group-wise accuracy:  44%|████▍     | 11/25 [00:03<00:04,  2.82it/s]"
     ]
    },
    {
     "name": "stdout",
     "output_type": "stream",
     "text": [
      "Group (2, 0) Accuracy: 33.86666666666667\n"
     ]
    },
    {
     "name": "stderr",
     "output_type": "stream",
     "text": [
      "Evaluating group-wise accuracy:  48%|████▊     | 12/25 [00:04<00:04,  2.82it/s]"
     ]
    },
    {
     "name": "stdout",
     "output_type": "stream",
     "text": [
      "Group (2, 1) Accuracy: 30.666666666666668\n"
     ]
    },
    {
     "name": "stderr",
     "output_type": "stream",
     "text": [
      "Evaluating group-wise accuracy:  52%|█████▏    | 13/25 [00:04<00:04,  2.78it/s]"
     ]
    },
    {
     "name": "stdout",
     "output_type": "stream",
     "text": [
      "Group (2, 2) Accuracy: 99.46666666666667\n"
     ]
    },
    {
     "name": "stderr",
     "output_type": "stream",
     "text": [
      "Evaluating group-wise accuracy:  56%|█████▌    | 14/25 [00:04<00:03,  2.79it/s]"
     ]
    },
    {
     "name": "stdout",
     "output_type": "stream",
     "text": [
      "Group (2, 3) Accuracy: 9.066666666666666\n"
     ]
    },
    {
     "name": "stderr",
     "output_type": "stream",
     "text": [
      "Evaluating group-wise accuracy:  60%|██████    | 15/25 [00:05<00:03,  2.83it/s]"
     ]
    },
    {
     "name": "stdout",
     "output_type": "stream",
     "text": [
      "Group (2, 4) Accuracy: 0.0\n"
     ]
    },
    {
     "name": "stderr",
     "output_type": "stream",
     "text": [
      "Evaluating group-wise accuracy:  64%|██████▍   | 16/25 [00:05<00:03,  2.82it/s]"
     ]
    },
    {
     "name": "stdout",
     "output_type": "stream",
     "text": [
      "Group (3, 0) Accuracy: 62.311557788944725\n"
     ]
    },
    {
     "name": "stderr",
     "output_type": "stream",
     "text": [
      "Evaluating group-wise accuracy:  68%|██████▊   | 17/25 [00:05<00:02,  2.78it/s]"
     ]
    },
    {
     "name": "stdout",
     "output_type": "stream",
     "text": [
      "Group (3, 1) Accuracy: 22.670025188916878\n"
     ]
    },
    {
     "name": "stderr",
     "output_type": "stream",
     "text": [
      "Evaluating group-wise accuracy:  72%|███████▏  | 18/25 [00:06<00:02,  2.78it/s]"
     ]
    },
    {
     "name": "stdout",
     "output_type": "stream",
     "text": [
      "Group (3, 2) Accuracy: 22.418136020151135\n"
     ]
    },
    {
     "name": "stderr",
     "output_type": "stream",
     "text": [
      "Evaluating group-wise accuracy:  76%|███████▌  | 19/25 [00:06<00:02,  2.78it/s]"
     ]
    },
    {
     "name": "stdout",
     "output_type": "stream",
     "text": [
      "Group (3, 3) Accuracy: 99.24433249370277\n"
     ]
    },
    {
     "name": "stderr",
     "output_type": "stream",
     "text": [
      "Evaluating group-wise accuracy:  80%|████████  | 20/25 [00:07<00:01,  2.74it/s]"
     ]
    },
    {
     "name": "stdout",
     "output_type": "stream",
     "text": [
      "Group (3, 4) Accuracy: 14.6095717884131\n"
     ]
    },
    {
     "name": "stderr",
     "output_type": "stream",
     "text": [
      "Evaluating group-wise accuracy:  84%|████████▍ | 21/25 [00:07<00:01,  2.76it/s]"
     ]
    },
    {
     "name": "stdout",
     "output_type": "stream",
     "text": [
      "Group (4, 0) Accuracy: 65.4911838790932\n"
     ]
    },
    {
     "name": "stderr",
     "output_type": "stream",
     "text": [
      "Evaluating group-wise accuracy:  88%|████████▊ | 22/25 [00:07<00:01,  2.78it/s]"
     ]
    },
    {
     "name": "stdout",
     "output_type": "stream",
     "text": [
      "Group (4, 1) Accuracy: 7.5566750629722925\n"
     ]
    },
    {
     "name": "stderr",
     "output_type": "stream",
     "text": [
      "Evaluating group-wise accuracy:  92%|█████████▏| 23/25 [00:08<00:00,  2.76it/s]"
     ]
    },
    {
     "name": "stdout",
     "output_type": "stream",
     "text": [
      "Group (4, 2) Accuracy: 0.0\n"
     ]
    },
    {
     "name": "stderr",
     "output_type": "stream",
     "text": [
      "Evaluating group-wise accuracy:  96%|█████████▌| 24/25 [00:08<00:00,  2.75it/s]"
     ]
    },
    {
     "name": "stdout",
     "output_type": "stream",
     "text": [
      "Group (4, 3) Accuracy: 24.494949494949495\n"
     ]
    },
    {
     "name": "stderr",
     "output_type": "stream",
     "text": [
      "Evaluating group-wise accuracy: 100%|██████████| 25/25 [00:08<00:00,  2.84it/s]"
     ]
    },
    {
     "name": "stdout",
     "output_type": "stream",
     "text": [
      "Group (4, 4) Accuracy: 100.0\n"
     ]
    },
    {
     "name": "stderr",
     "output_type": "stream",
     "text": [
      "\n"
     ]
    },
    {
     "data": {
      "text/plain": [
       "{(0, 0): 99.76359338061465,\n",
       " (0, 1): 53.90070921985816,\n",
       " (0, 2): 66.19385342789599,\n",
       " (0, 3): 78.01418439716312,\n",
       " (0, 4): 59.1016548463357,\n",
       " (1, 0): 58.924205378973106,\n",
       " (1, 1): 100.0,\n",
       " (1, 2): 23.529411764705884,\n",
       " (1, 3): 34.068627450980394,\n",
       " (1, 4): 7.598039215686274,\n",
       " (2, 0): 33.86666666666667,\n",
       " (2, 1): 30.666666666666668,\n",
       " (2, 2): 99.46666666666667,\n",
       " (2, 3): 9.066666666666666,\n",
       " (2, 4): 0.0,\n",
       " (3, 0): 62.311557788944725,\n",
       " (3, 1): 22.670025188916878,\n",
       " (3, 2): 22.418136020151135,\n",
       " (3, 3): 99.24433249370277,\n",
       " (3, 4): 14.6095717884131,\n",
       " (4, 0): 65.4911838790932,\n",
       " (4, 1): 7.5566750629722925,\n",
       " (4, 2): 0.0,\n",
       " (4, 3): 24.494949494949495,\n",
       " (4, 4): 100.0}"
      ]
     },
     "execution_count": 17,
     "metadata": {},
     "output_type": "execute_result"
    }
   ],
   "source": [
    "from spuco.evaluate import Evaluator\n",
    "\n",
    "evaluator = Evaluator(\n",
    "    testset=testset,\n",
    "    group_partition=testset.group_partition,\n",
    "    group_weights=trainset.group_weights,\n",
    "    batch_size=64,\n",
    "    model=model_jtt,\n",
    "    device=device,\n",
    "    verbose=True\n",
    ")\n",
    "evaluator.evaluate()"
   ]
  },
  {
   "cell_type": "code",
   "execution_count": 39,
   "metadata": {},
   "outputs": [
    {
     "name": "stderr",
     "output_type": "stream",
     "text": [
      "Epoch 0:   0%|          | 0/1449 [00:00<?, ?batch/s]"
     ]
    },
    {
     "name": "stderr",
     "output_type": "stream",
     "text": [
      "Epoch 0: 100%|██████████| 1449/1449 [00:07<00:00, 203.21batch/s, accuracy=79.41176470588235%, loss=0.709]\n",
      "Epoch 1: 100%|██████████| 1449/1449 [00:06<00:00, 210.81batch/s, accuracy=76.47058823529412%, loss=0.626]\n",
      "Epoch 2: 100%|██████████| 1449/1449 [00:07<00:00, 205.43batch/s, accuracy=76.47058823529412%, loss=0.675]\n",
      "Epoch 3: 100%|██████████| 1449/1449 [00:06<00:00, 209.94batch/s, accuracy=85.29411764705883%, loss=0.466]\n",
      "Epoch 4: 100%|██████████| 1449/1449 [00:06<00:00, 207.67batch/s, accuracy=67.6470588235294%, loss=0.708]\n"
     ]
    }
   ],
   "source": [
    "from torch.optim import SGD\n",
    "from spuco.robust_train import UpSampleERM, DownSampleERM, CustomSampleERM\n",
    "\n",
    "jtt_train = UpSampleERM(\n",
    "    model=model,\n",
    "    num_epochs=5,\n",
    "    trainset=trainset,\n",
    "    batch_size=64,\n",
    "    group_partition=jtt_group_partition,\n",
    "    optimizer=SGD(model.parameters(), lr=1e-2, momentum=0.9, nesterov=True),\n",
    "    device=device,\n",
    "    verbose=True\n",
    ")\n",
    "jtt_train.train()"
   ]
  },
  {
   "cell_type": "code",
   "execution_count": 40,
   "metadata": {},
   "outputs": [
    {
     "name": "stdout",
     "output_type": "stream",
     "text": [
      "not equal\n",
      "not equal\n",
      "not equal\n",
      "not equal\n",
      "not equal\n",
      "not equal\n"
     ]
    }
   ],
   "source": [
    "for name, param in model_fgt.named_parameters():\n",
    "    if param.requires_grad:\n",
    "        # print(name, param.data)\n",
    "        if not torch.isclose(param.data, model.state_dict()[name], atol=1e-4).all():\n",
    "            print(\"not equal\")"
   ]
  },
  {
   "cell_type": "code",
   "execution_count": 42,
   "metadata": {},
   "outputs": [
    {
     "name": "stdout",
     "output_type": "stream",
     "text": [
      "backbone.fc1.weight tensor([[-0.0008,  0.0104, -0.0176,  ..., -0.0132, -0.0008,  0.0031],\n",
      "        [ 0.0051, -0.0231, -0.0031,  ..., -0.0235,  0.0153,  0.0032],\n",
      "        [-0.0161,  0.0150, -0.0067,  ..., -0.0169, -0.0055, -0.0120],\n",
      "        ...,\n",
      "        [-0.0006,  0.0025,  0.0053,  ..., -0.0176,  0.0083, -0.0107],\n",
      "        [-0.0123, -0.0154, -0.0055,  ..., -0.0005, -0.0044, -0.0153],\n",
      "        [ 0.0098,  0.0015,  0.0086,  ...,  0.0033,  0.0145,  0.0052]],\n",
      "       device='cuda:0')\n",
      "backbone.fc1.bias tensor([ 1.2130e-02, -9.7771e-03, -9.9735e-03, -1.1502e-02,  6.6799e-03,\n",
      "        -6.6680e-04, -2.2222e-02, -8.7270e-03, -1.5164e-02,  9.9173e-03,\n",
      "        -5.5212e-03, -1.1228e-02, -1.6626e-02, -1.2177e-02,  1.9945e-02,\n",
      "        -8.5539e-03,  1.3544e-02,  2.3331e-02, -1.8100e-02, -1.8582e-02,\n",
      "        -1.8714e-02,  1.5472e-02,  1.6428e-04,  1.1836e-02, -8.8285e-03,\n",
      "         7.9330e-03, -1.7030e-02,  8.7986e-03, -2.1723e-02,  1.7956e-02,\n",
      "        -1.3795e-02,  1.7609e-02, -6.8806e-03,  5.0965e-03, -2.1434e-02,\n",
      "        -8.4374e-03,  3.1247e-03, -2.3732e-02, -9.8077e-03, -1.0681e-02,\n",
      "        -1.4290e-02,  1.3589e-02,  1.2420e-02, -1.1407e-02,  3.2835e-03,\n",
      "        -1.1611e-02, -1.8280e-02,  1.7593e-02, -2.6332e-02,  5.6986e-03,\n",
      "        -1.3066e-02,  7.6855e-04,  1.9207e-03, -5.6502e-03, -5.3842e-03,\n",
      "        -2.0118e-02,  1.6902e-02, -1.3910e-02, -9.8157e-03,  9.2967e-03,\n",
      "        -6.0438e-03, -2.8455e-03,  7.7148e-03, -7.4343e-03, -1.1562e-02,\n",
      "        -3.3898e-03, -1.8972e-02, -6.4807e-03, -1.0507e-03,  3.0968e-03,\n",
      "        -1.7198e-03, -8.8312e-03, -1.8635e-02,  4.7507e-03, -1.0425e-02,\n",
      "        -1.4786e-03, -6.0855e-03, -6.5129e-03,  3.9621e-03, -1.3036e-02,\n",
      "        -2.2974e-02, -1.1997e-02,  1.7507e-02,  7.4224e-03,  8.7486e-04,\n",
      "        -1.1780e-02,  3.9106e-03,  9.6339e-03,  1.0812e-02, -1.9413e-02,\n",
      "        -2.2144e-02,  2.5343e-03, -9.5617e-03, -1.0749e-02, -1.1797e-02,\n",
      "         9.8657e-03,  9.8738e-04,  1.6798e-02, -1.9691e-02,  2.1941e-03,\n",
      "        -7.1347e-03,  1.9202e-02, -1.9764e-02, -1.4270e-02,  6.2582e-04,\n",
      "        -5.0780e-03, -1.2656e-02,  1.3885e-02,  1.7274e-02, -5.8156e-03,\n",
      "         1.2084e-02, -1.8512e-02,  2.5122e-03,  1.7104e-02,  5.7482e-03,\n",
      "        -1.2014e-02, -1.6578e-02, -4.8684e-03, -1.0616e-03, -2.3780e-02,\n",
      "         1.3329e-02, -9.2129e-03,  9.1982e-03,  5.0909e-03, -2.1483e-02,\n",
      "        -3.3399e-03, -7.6822e-03,  6.4316e-03,  1.7698e-02, -1.1847e-02,\n",
      "         5.2515e-03,  1.8776e-02, -1.1564e-02, -5.3343e-03,  1.1460e-02,\n",
      "        -8.7263e-03,  1.0310e-02,  2.4082e-03, -1.3823e-02, -3.0537e-03,\n",
      "         1.9136e-03,  1.4858e-02,  1.5229e-02,  1.4214e-02,  1.2031e-02,\n",
      "         1.7693e-02,  1.0245e-02, -2.4494e-02,  1.7063e-02, -4.0769e-03,\n",
      "        -1.2318e-02, -1.1799e-02,  4.3335e-03,  6.2485e-03, -1.2968e-02,\n",
      "         7.3027e-03,  1.5444e-03,  9.8840e-03, -1.4247e-02, -1.6402e-02,\n",
      "        -9.2931e-03, -1.8680e-02, -1.5064e-02, -1.4142e-03, -8.9950e-03,\n",
      "        -1.2481e-02, -1.4278e-02, -3.4634e-03, -1.2380e-02,  5.5270e-03,\n",
      "         7.7005e-03,  4.0672e-03, -1.9237e-02, -2.3110e-02,  1.5750e-02,\n",
      "         1.0009e-02, -9.3564e-03,  1.1977e-02,  1.6809e-02,  1.2913e-02,\n",
      "         1.5873e-02,  5.0351e-03, -2.9462e-03, -2.1353e-02, -1.1880e-02,\n",
      "        -9.8687e-03, -7.0368e-03, -2.2621e-02, -2.0511e-02,  4.7753e-03,\n",
      "         1.8609e-02, -1.4977e-02, -1.4596e-02, -6.4056e-04,  3.8594e-03,\n",
      "         7.3044e-03,  3.0962e-03, -7.2731e-03,  1.6565e-02, -8.4373e-03,\n",
      "         3.6563e-03, -1.2961e-02, -3.5678e-03, -6.4459e-03, -2.7496e-02,\n",
      "        -1.3254e-02, -2.0604e-02, -1.6958e-02,  8.9538e-03,  2.0320e-03,\n",
      "        -1.3117e-02, -1.0419e-02, -1.1621e-02,  1.3527e-02,  4.8614e-03,\n",
      "        -1.4974e-02,  1.1494e-02, -4.7883e-03, -1.6308e-02, -1.2873e-02,\n",
      "        -1.6724e-02,  1.0591e-02,  1.0373e-03,  1.3673e-02,  5.0094e-03,\n",
      "         1.2889e-03,  3.1733e-03,  3.0144e-03,  1.2643e-02, -7.2133e-03,\n",
      "         1.4456e-02,  7.5776e-03, -1.9976e-02, -2.1262e-03,  7.2529e-03,\n",
      "         2.0678e-03,  6.4156e-03, -3.5311e-03,  1.1977e-02, -9.3658e-03,\n",
      "         8.2432e-03, -1.8647e-02, -1.5594e-02,  6.6587e-03,  6.9031e-03,\n",
      "        -9.9913e-03, -9.6912e-03, -3.2381e-04, -5.5792e-04, -7.3682e-03,\n",
      "        -7.7503e-03,  5.6879e-03,  1.2011e-03, -1.1575e-02, -5.1853e-03,\n",
      "        -1.4046e-04,  3.4278e-03, -2.0833e-02, -6.2064e-03,  1.6143e-02,\n",
      "         6.9491e-03, -1.7711e-02, -4.6482e-03, -1.3722e-02,  1.3600e-02,\n",
      "        -2.0649e-02,  6.0503e-03,  7.8642e-03,  1.7887e-02,  1.2217e-02,\n",
      "        -1.5063e-02, -5.9352e-03, -2.3688e-02,  9.6487e-04, -6.9731e-03,\n",
      "        -5.6996e-03, -1.1219e-02, -1.9428e-02,  2.1338e-04, -9.3147e-03,\n",
      "         3.3467e-04, -2.1318e-02,  4.1391e-04, -1.1100e-02,  1.0692e-02,\n",
      "         1.4031e-03,  1.2738e-02,  2.6908e-04,  1.7162e-02, -3.6250e-03,\n",
      "        -2.5086e-02,  2.3416e-03, -8.8994e-03, -2.3500e-02, -6.9242e-03,\n",
      "         1.4642e-02,  4.0930e-03,  1.2967e-02, -1.7286e-02, -7.7111e-03,\n",
      "         1.9963e-02,  9.9872e-03, -4.7296e-03, -2.2260e-02,  1.2508e-02,\n",
      "        -1.8282e-02,  2.5878e-03,  9.1824e-03, -9.8190e-04, -1.6581e-03,\n",
      "         1.6870e-02,  9.8375e-03, -1.5716e-02,  3.7665e-03,  9.3050e-03,\n",
      "        -9.9834e-03, -1.7808e-02, -3.2334e-03, -1.9971e-03,  3.4532e-03,\n",
      "         1.2774e-02, -6.4103e-03, -7.0458e-03, -1.5169e-03,  1.1448e-02,\n",
      "         7.9988e-03, -1.3366e-03, -1.3135e-03, -8.8870e-03, -1.7860e-02,\n",
      "        -1.4853e-02,  1.1505e-02,  3.2236e-03,  1.7911e-03,  1.8625e-03,\n",
      "        -1.9581e-02, -2.7566e-02,  4.0216e-04, -2.9929e-03,  1.4730e-02,\n",
      "         2.0558e-02, -9.0796e-03,  1.8040e-02, -1.8174e-02, -1.5092e-02,\n",
      "         1.4661e-02, -1.6598e-02,  1.5986e-03, -2.1927e-02, -6.6989e-03,\n",
      "         7.1566e-03,  4.0718e-04, -1.3792e-02,  2.8714e-03,  5.2370e-03,\n",
      "        -9.0089e-03,  2.8162e-03,  1.6002e-02, -6.4174e-03,  1.8432e-02,\n",
      "         1.2347e-02, -2.2474e-02,  7.6800e-04, -9.4482e-03, -2.6271e-03,\n",
      "        -6.3923e-03, -7.9324e-03,  1.6302e-02,  1.2431e-02, -2.0997e-02,\n",
      "        -1.1233e-03, -1.1982e-02, -1.7307e-02, -2.7886e-02, -1.5368e-02,\n",
      "         8.1790e-04,  1.7753e-02,  6.8189e-04,  1.5577e-02,  5.1284e-03,\n",
      "         1.1193e-02,  1.1027e-02, -1.3967e-03, -2.0293e-02, -1.7625e-02,\n",
      "        -2.3896e-02, -1.2952e-02,  6.1886e-03, -6.2142e-03,  1.6426e-02,\n",
      "        -1.6258e-02,  1.4083e-02, -1.0375e-02, -2.8554e-03, -7.9136e-03,\n",
      "        -1.2284e-02, -1.0135e-02,  8.3022e-03, -1.3337e-02,  1.0063e-02,\n",
      "        -1.3895e-02, -2.2411e-02, -2.3036e-02, -5.1697e-03,  1.5885e-03,\n",
      "         1.2318e-02, -1.4492e-02,  6.2285e-03, -2.2106e-02, -6.2057e-03,\n",
      "        -6.6250e-03, -1.6880e-03,  1.6281e-02,  9.0944e-03, -2.4881e-04,\n",
      "        -1.2205e-02,  1.9548e-02,  1.6780e-02, -6.6433e-03, -2.2171e-02,\n",
      "         1.5656e-03, -2.1761e-02, -1.8401e-02, -3.2943e-04, -3.2804e-03,\n",
      "        -1.5905e-02, -8.7153e-03,  1.5895e-02,  3.9983e-03,  1.3508e-02,\n",
      "        -1.1168e-02, -1.6496e-02, -4.9066e-03,  1.3264e-02, -8.1589e-03,\n",
      "         6.0025e-03,  7.8558e-03, -2.7940e-03,  1.6105e-03,  5.8256e-03,\n",
      "         8.2104e-03, -1.3102e-02, -5.4724e-03, -1.9947e-02, -1.0116e-02,\n",
      "         5.3925e-03, -5.1528e-03, -9.1345e-03, -1.8564e-02, -5.5985e-04,\n",
      "         1.4388e-02, -1.8245e-02,  1.1183e-03,  5.6768e-03,  6.7747e-03,\n",
      "        -1.6391e-02,  4.1332e-03,  1.2948e-02,  5.2215e-03,  1.1370e-02,\n",
      "         1.1646e-02, -1.9623e-02, -4.3260e-03, -1.7137e-02,  3.5545e-03,\n",
      "        -2.8272e-05, -1.6410e-03,  1.0372e-02, -1.0176e-02,  7.5531e-03,\n",
      "        -2.5796e-02, -1.7355e-02, -1.3710e-02, -3.3370e-03,  1.0191e-02,\n",
      "        -2.3834e-02, -1.4207e-02, -9.2332e-03, -1.4089e-02,  9.2417e-03,\n",
      "        -2.3272e-02, -1.1125e-02, -1.8995e-02, -1.9866e-02, -1.1862e-02,\n",
      "         1.4187e-02, -9.2421e-03, -1.1966e-02,  1.7327e-03, -6.3444e-03,\n",
      "        -3.0743e-03, -1.1608e-02,  6.9203e-03, -1.5544e-02,  1.8947e-02,\n",
      "         3.4247e-04,  3.9936e-03, -2.0691e-02,  1.4206e-02, -4.8329e-03,\n",
      "         1.4420e-02,  2.9718e-03, -7.1215e-03,  5.1818e-03, -1.3438e-02,\n",
      "         1.4728e-03,  5.3203e-03, -1.2824e-02,  1.3068e-02, -1.3563e-02,\n",
      "        -6.3607e-04,  5.4053e-03], device='cuda:0')\n",
      "backbone.fc2.weight tensor([[ 0.0302, -0.0141, -0.0173,  ..., -0.0248, -0.0224, -0.0005],\n",
      "        [ 0.0397,  0.0168, -0.0030,  ...,  0.0021, -0.0256, -0.0206],\n",
      "        [ 0.0078, -0.0372,  0.0216,  ...,  0.0190,  0.0177,  0.0253],\n",
      "        ...,\n",
      "        [ 0.0088, -0.0370, -0.0093,  ..., -0.0035, -0.0347,  0.0087],\n",
      "        [ 0.0284, -0.0172, -0.0032,  ..., -0.0294,  0.0146, -0.0068],\n",
      "        [-0.0419,  0.0089, -0.0441,  ..., -0.0063, -0.0176,  0.0379]],\n",
      "       device='cuda:0')\n",
      "backbone.fc2.bias tensor([ 0.0206,  0.0052, -0.0345,  0.0104,  0.0295,  0.0201, -0.0173, -0.0217,\n",
      "         0.0195, -0.0060, -0.0446,  0.1146,  0.0472,  0.0295, -0.0157,  0.0259,\n",
      "         0.0193,  0.0102,  0.0201,  0.0198,  0.0953,  0.0013,  0.0228, -0.0356,\n",
      "         0.0570,  0.0676, -0.0449,  0.0462,  0.1010,  0.0076,  0.0143, -0.0047,\n",
      "         0.0104, -0.0395,  0.0906,  0.0424, -0.0234,  0.0186,  0.0034,  0.0120,\n",
      "         0.0219,  0.0030, -0.0165,  0.0313,  0.0742, -0.0175,  0.0159,  0.0329,\n",
      "         0.0824,  0.0190,  0.0352, -0.0423,  0.0788,  0.0404,  0.0085,  0.0292,\n",
      "        -0.0167,  0.0426,  0.0428, -0.0485,  0.0113,  0.0518,  0.0283, -0.0304,\n",
      "         0.0324,  0.0040, -0.0159, -0.0038,  0.0218, -0.0100, -0.0012, -0.0310,\n",
      "        -0.0166, -0.0401, -0.0388, -0.0287, -0.0221,  0.0103,  0.0345,  0.0238,\n",
      "        -0.0017, -0.0169,  0.0110,  0.0663,  0.0396,  0.0282,  0.0326,  0.0383,\n",
      "        -0.0067,  0.0295,  0.0210,  0.0762,  0.0196,  0.0191,  0.0083,  0.0639,\n",
      "        -0.0190,  0.0259, -0.0105,  0.0299,  0.0006,  0.0421,  0.0507,  0.0391,\n",
      "        -0.0176,  0.0286, -0.0092,  0.1192, -0.0316, -0.0238,  0.0435, -0.0009,\n",
      "         0.0119,  0.0347,  0.0055,  0.0272, -0.0283, -0.0168,  0.0108,  0.0101,\n",
      "         0.0374,  0.0192,  0.0746, -0.0085,  0.1152, -0.0334,  0.0025,  0.0272,\n",
      "         0.0145,  0.0661,  0.0446,  0.0472,  0.0090,  0.0099,  0.0443,  0.0440,\n",
      "        -0.0085, -0.0417, -0.0210,  0.0326, -0.0422,  0.0142, -0.0238,  0.0075,\n",
      "        -0.0026, -0.0295,  0.0105, -0.0261,  0.0483, -0.0236,  0.0389, -0.0004,\n",
      "         0.0315,  0.0368,  0.0374,  0.0763,  0.0332,  0.0078,  0.0596,  0.0138,\n",
      "         0.0179, -0.0288, -0.0017,  0.0208,  0.0355,  0.0512, -0.0353, -0.0135,\n",
      "         0.0523,  0.0277,  0.0102, -0.0472,  0.0346,  0.0017,  0.0081,  0.0652,\n",
      "         0.0049,  0.0232,  0.0449,  0.0004,  0.0278,  0.0437,  0.0656,  0.0184,\n",
      "         0.0439,  0.0197, -0.0157, -0.0044,  0.0458, -0.0037, -0.0292,  0.0338,\n",
      "         0.0063,  0.0129,  0.0308,  0.0542,  0.0847, -0.0242,  0.0219, -0.0296,\n",
      "         0.0452, -0.0178,  0.0139,  0.0748, -0.0106,  0.0215, -0.0050, -0.0289,\n",
      "         0.0067, -0.0144,  0.0622, -0.0448,  0.0407,  0.0373,  0.0092,  0.0282,\n",
      "        -0.0145, -0.0126, -0.0137, -0.0210,  0.0074, -0.0198, -0.0217, -0.0125,\n",
      "        -0.0294,  0.0495,  0.0025,  0.0078, -0.0165,  0.0021, -0.0113,  0.0952,\n",
      "        -0.0177, -0.0055, -0.0180,  0.0921,  0.0070,  0.0295,  0.0165, -0.0054,\n",
      "         0.0104,  0.0150,  0.0463,  0.0518,  0.0090,  0.0532, -0.0156,  0.0779,\n",
      "         0.0094, -0.0057, -0.0346,  0.0253, -0.0127, -0.0198,  0.0252,  0.0122],\n",
      "       device='cuda:0')\n",
      "classifier.weight tensor([[ 0.0354,  0.1139, -0.0406,  ..., -0.0497, -0.0313, -0.0467],\n",
      "        [-0.0690,  0.0418, -0.0197,  ...,  0.0472,  0.0254,  0.0940],\n",
      "        [-0.0170, -0.0083,  0.0174,  ..., -0.0479, -0.0062,  0.0351],\n",
      "        [-0.0831, -0.0520, -0.0039,  ..., -0.0273, -0.0655, -0.0512],\n",
      "        [ 0.0016, -0.1343, -0.0343,  ...,  0.0270,  0.0130,  0.1086]],\n",
      "       device='cuda:0')\n",
      "classifier.bias tensor([-0.1241,  0.0664, -0.1195,  0.0427,  0.1380], device='cuda:0')\n"
     ]
    }
   ],
   "source": [
    "# print parameters in model_jtt\n",
    "for name, param in model_jtt.named_parameters():\n",
    "    if param.requires_grad:\n",
    "        print(name, param.data)"
   ]
  },
  {
   "cell_type": "code",
   "execution_count": 41,
   "metadata": {},
   "outputs": [
    {
     "name": "stdout",
     "output_type": "stream",
     "text": [
      "backbone.fc1.weight tensor([[-0.0024,  0.0088, -0.0192,  ..., -0.0132, -0.0008,  0.0031],\n",
      "        [ 0.0039, -0.0244, -0.0044,  ..., -0.0233,  0.0155,  0.0034],\n",
      "        [-0.0161,  0.0150, -0.0067,  ..., -0.0169, -0.0055, -0.0120],\n",
      "        ...,\n",
      "        [-0.0006,  0.0025,  0.0053,  ..., -0.0176,  0.0083, -0.0107],\n",
      "        [-0.0167, -0.0198, -0.0099,  ..., -0.0005, -0.0045, -0.0154],\n",
      "        [ 0.0059, -0.0024,  0.0048,  ..., -0.0027,  0.0085, -0.0007]],\n",
      "       device='cuda:0')\n",
      "backbone.fc1.bias tensor([ 1.0515e-02, -1.1149e-02, -9.9735e-03, -1.7382e-02,  6.6526e-03,\n",
      "        -7.4012e-03, -2.4037e-02, -8.7270e-03, -2.4446e-02, -5.2563e-03,\n",
      "        -8.2215e-03, -1.1228e-02, -2.1028e-02, -1.3505e-02,  1.7776e-02,\n",
      "        -1.0275e-02,  1.7097e-01,  2.1493e-02, -2.4411e-02, -2.3754e-02,\n",
      "        -1.8670e-02,  1.5472e-02,  5.1165e-05,  1.0639e-02, -8.8285e-03,\n",
      "        -5.3033e-03, -2.0649e-02,  8.6919e-03, -3.7594e-02,  3.1319e-03,\n",
      "        -1.7409e-02,  1.7609e-02, -6.8806e-03,  4.8646e-03, -2.5253e-02,\n",
      "        -8.4374e-03,  3.1149e-05, -2.3732e-02, -9.8077e-03, -1.1708e-02,\n",
      "        -1.9602e-02,  1.3066e-02,  1.1150e-03, -1.7789e-02, -2.8812e-03,\n",
      "        -7.6801e-03, -2.9683e-02,  1.7204e-02, -2.7696e-02,  5.6986e-03,\n",
      "        -1.3066e-02, -1.6008e-03,  1.9207e-03, -2.1837e-02, -5.3842e-03,\n",
      "        -2.3300e-02,  1.5012e-02, -1.3910e-02, -9.8157e-03,  1.0377e-01,\n",
      "        -6.1086e-03, -3.7864e-03, -8.4393e-03, -7.3793e-03, -1.1568e-02,\n",
      "        -3.5239e-03, -1.8966e-02, -6.4807e-03, -9.5306e-04,  2.5854e-03,\n",
      "        -3.5012e-03, -1.3486e-02, -2.4274e-02, -3.0916e-03, -1.1344e-02,\n",
      "        -2.7680e-03, -6.0855e-03, -6.5129e-03,  3.9390e-03, -3.2839e-02,\n",
      "        -2.7526e-02, -2.3397e-02,  1.2821e-02,  7.4224e-03, -7.3826e-03,\n",
      "        -1.1780e-02,  3.9106e-03, -5.5518e-04,  1.0895e-02, -1.9591e-02,\n",
      "        -2.7116e-02,  2.4405e-03, -1.0006e-02, -1.0749e-02, -1.5798e-02,\n",
      "         9.8657e-03,  8.9906e-02,  1.5692e-02, -2.2637e-02, -6.5988e-03,\n",
      "        -7.5127e-03,  1.3730e-02, -1.9854e-02, -1.4270e-02,  6.2582e-04,\n",
      "        -1.0093e-02, -2.6887e-02,  1.3885e-02,  1.7274e-02, -5.8541e-03,\n",
      "         1.0033e-02, -3.1846e-02, -1.2781e-03,  1.6987e-02,  5.7482e-03,\n",
      "        -1.4741e-02, -3.8404e-02, -7.5599e-03, -1.1071e-03, -2.4885e-02,\n",
      "         1.3329e-02, -1.5619e-02,  3.9355e-03,  5.0903e-03, -3.0621e-02,\n",
      "        -3.3399e-03,  1.5130e-02, -1.8710e-03,  2.4761e-02, -1.1847e-02,\n",
      "         3.1048e-03,  1.8745e-02, -1.1555e-02, -6.5698e-03,  8.5971e-03,\n",
      "        -1.4161e-02,  7.9266e-03,  2.3670e-04, -1.5038e-02, -3.2569e-03,\n",
      "        -6.3656e-04,  1.0441e-02,  7.3141e-03, -2.2785e-03,  1.1885e-02,\n",
      "         1.5205e-02,  1.0112e-02, -2.6028e-02,  1.7063e-02, -4.0769e-03,\n",
      "        -1.2318e-02, -1.1869e-02,  4.9122e-03, -7.8575e-04, -1.2968e-02,\n",
      "         6.1896e-03,  1.4446e-03,  9.8840e-03, -1.5738e-02, -1.6402e-02,\n",
      "        -1.0095e-02, -1.9938e-02, -1.9437e-02, -1.2794e-02, -1.5616e-02,\n",
      "        -1.2475e-02, -1.7716e-02, -3.4750e-03, -1.2380e-02,  5.5270e-03,\n",
      "         5.1806e-03,  4.0259e-03, -1.9237e-02, -2.3110e-02,  1.0654e-02,\n",
      "         8.7920e-03, -1.9766e-02,  8.6148e-03,  9.6979e-03,  1.2913e-02,\n",
      "         4.5367e-03,  2.8147e-03, -2.7950e-03, -2.1353e-02, -1.1880e-02,\n",
      "        -7.7246e-03, -7.0368e-03, -2.4272e-02, -2.0511e-02,  4.7736e-03,\n",
      "         1.0489e-02, -1.4977e-02, -2.0839e-02, -6.5264e-04,  3.2744e-02,\n",
      "         7.3044e-03, -4.5662e-03, -7.2731e-03,  2.8242e-02, -9.0229e-03,\n",
      "         3.5112e-03, -9.2900e-03, -8.5014e-03, -1.0863e-02, -2.7496e-02,\n",
      "        -1.4743e-02, -2.0762e-02, -2.6244e-02,  8.3651e-03,  2.0320e-03,\n",
      "        -2.1797e-02, -1.0419e-02, -1.6221e-02,  6.1036e-03, -6.5122e-03,\n",
      "        -1.4977e-02,  1.1540e-02, -4.7967e-03, -1.6241e-02, -1.2929e-02,\n",
      "        -1.7416e-02,  4.3541e-03,  8.2506e-04,  1.1214e-02,  1.7367e-03,\n",
      "         1.1091e-03, -1.2374e-03, -1.2267e-02,  1.2643e-02, -7.2133e-03,\n",
      "         1.4456e-02,  4.2735e-03, -2.4192e-02, -4.8409e-03,  5.3816e-03,\n",
      "         2.0423e-03,  6.4156e-03, -5.9277e-03,  1.1953e-02, -1.8837e-02,\n",
      "         8.2432e-03, -2.3269e-02, -1.5594e-02,  5.6531e-03,  6.2319e-03,\n",
      "        -1.0179e-02, -9.6912e-03, -5.2007e-04, -5.7009e-04, -1.6436e-02,\n",
      "        -7.7503e-03,  5.6004e-03, -1.6259e-03, -1.3951e-02, -6.0318e-03,\n",
      "        -1.4046e-04,  1.3783e-01, -2.3992e-02, -6.2064e-03,  1.6143e-02,\n",
      "         1.3026e-03, -2.1971e-02, -1.0934e-02, -1.4938e-02,  1.0002e-02,\n",
      "        -2.0662e-02, -7.6120e-04,  2.4803e-03,  1.3226e-02,  1.2217e-02,\n",
      "        -1.5063e-02, -8.8573e-03, -2.3558e-02,  9.6487e-04, -8.8705e-03,\n",
      "        -5.6996e-03, -1.1219e-02, -2.4361e-02, -3.6417e-03, -1.1736e-02,\n",
      "        -9.4627e-03, -2.5644e-02, -1.3749e-03, -1.5237e-02, -1.0207e-02,\n",
      "        -1.8490e-02,  3.2873e-03, -3.9496e-03,  1.5076e-02, -3.6923e-03,\n",
      "        -2.6923e-02,  2.3416e-03, -2.4666e-02, -2.7568e-02, -6.9242e-03,\n",
      "         1.4642e-02, -6.7816e-03,  1.2967e-02, -1.7286e-02, -1.4334e-02,\n",
      "         1.9963e-02,  6.6444e-03, -2.3192e-02, -2.2260e-02,  1.2508e-02,\n",
      "        -2.7802e-02,  5.7178e-02,  9.1824e-03, -3.9553e-03, -1.6561e-03,\n",
      "        -1.1878e-02,  9.8375e-03, -1.5716e-02,  3.5897e-03,  9.3012e-03,\n",
      "        -1.0454e-02, -2.0146e-02, -8.2324e-03, -3.2878e-03,  3.4512e-03,\n",
      "         1.1372e-02, -1.1166e-02, -1.1472e-02, -1.5169e-03,  1.1448e-02,\n",
      "        -3.3932e-03, -1.3366e-03, -1.4359e-02, -8.8870e-03, -1.8024e-02,\n",
      "        -1.4853e-02,  8.5281e-03,  3.1732e-03,  1.7911e-03,  1.8753e-03,\n",
      "        -2.5349e-02, -2.8087e-02,  3.2805e-04, -2.9929e-03,  1.4730e-02,\n",
      "         1.3379e-02, -1.4484e-02,  1.2898e-02, -1.8645e-02,  2.8440e-02,\n",
      "         1.4661e-02, -1.6598e-02, -3.1102e-03, -3.0841e-02, -8.7599e-03,\n",
      "         5.5616e-03, -6.3884e-03, -2.0990e-02, -1.8039e-03,  4.5840e-03,\n",
      "        -1.4261e-02,  1.2559e-03,  1.6002e-02, -1.0148e-02,  1.8432e-02,\n",
      "        -4.0590e-03, -2.7996e-02,  5.3232e-04, -1.1377e-02, -3.4487e-03,\n",
      "        -7.8171e-03, -7.9324e-03,  1.6302e-02,  1.2431e-02, -2.0997e-02,\n",
      "        -7.4746e-03, -1.8534e-02, -1.8004e-02, -2.7886e-02, -1.2393e-02,\n",
      "         8.2331e-04,  1.7540e-02, -5.4589e-03,  1.1230e-02,  4.4965e-03,\n",
      "         1.1193e-02,  1.1027e-02, -1.7260e-03, -2.4874e-02, -2.1349e-02,\n",
      "        -1.5755e-02, -1.2952e-02,  6.1886e-03, -2.2681e-02,  6.3653e-03,\n",
      "        -1.7842e-02,  2.4696e-02, -1.0375e-02, -2.8554e-03, -9.2534e-03,\n",
      "        -1.6121e-02,  6.0306e-03,  8.3022e-03, -1.3382e-02,  2.0456e-03,\n",
      "        -1.3895e-02, -2.2411e-02, -2.0345e-02, -6.9059e-03,  1.5885e-03,\n",
      "         6.1566e-03, -1.4492e-02,  2.7585e-02, -2.2106e-02, -1.2461e-02,\n",
      "        -9.8344e-03, -8.8500e-03,  1.8314e-02,  6.3089e-03, -2.4881e-04,\n",
      "        -1.8137e-02,  1.5369e-02,  1.6780e-02, -1.0720e-02, -2.2171e-02,\n",
      "        -4.0307e-03, -2.2082e-02, -1.9155e-02, -3.2943e-04, -3.2804e-03,\n",
      "        -1.5905e-02, -9.1739e-03,  5.1835e-03,  1.3202e-01,  8.6894e-03,\n",
      "        -1.3152e-02, -1.6591e-02,  3.3489e-02,  9.9802e-03,  4.7608e-02,\n",
      "        -1.7400e-03, -5.9497e-03, -2.7940e-03,  7.4427e-04,  5.8256e-03,\n",
      "         7.5609e-03, -1.5397e-02, -5.4724e-03, -2.2454e-02, -1.3502e-02,\n",
      "         4.6820e-04, -5.1528e-03, -1.2778e-02, -2.2690e-02, -3.5456e-03,\n",
      "         8.3237e-03, -1.8245e-02,  1.1183e-03,  5.6768e-03,  6.3608e-03,\n",
      "        -1.6391e-02,  4.0470e-03,  1.2948e-02,  5.2215e-03,  1.1370e-02,\n",
      "         1.1646e-02, -2.2561e-02, -4.4657e-03, -1.7118e-02,  3.8504e-05,\n",
      "        -3.5728e-03, -2.7599e-03,  1.0242e-02, -1.4273e-02,  7.2944e-03,\n",
      "        -2.5796e-02, -2.4787e-02, -2.1008e-02, -3.3370e-03,  1.0191e-02,\n",
      "        -3.4118e-02, -1.4363e-02, -9.2332e-03, -1.7084e-02,  9.2417e-03,\n",
      "        -2.6724e-02, -1.1231e-02, -3.4952e-02, -2.3765e-02, -1.1862e-02,\n",
      "         1.3870e-02, -9.2421e-03, -1.8086e-02,  1.7327e-03, -6.3444e-03,\n",
      "        -2.8244e-02, -1.1608e-02,  1.9869e-03, -1.5544e-02,  1.8947e-02,\n",
      "        -3.0921e-03,  3.8766e-03, -2.0691e-02,  1.3766e-02, -4.8329e-03,\n",
      "         9.2101e-03,  2.9718e-03, -7.4594e-03, -2.6927e-03, -1.3587e-02,\n",
      "         1.4728e-03,  2.8796e-03, -1.3877e-02,  1.3068e-02, -1.3563e-02,\n",
      "        -5.8572e-03, -1.6103e-03], device='cuda:0')\n",
      "backbone.fc2.weight tensor([[ 0.0300, -0.0133, -0.0173,  ..., -0.0248, -0.0177,  0.0040],\n",
      "        [ 0.0393,  0.0276, -0.0030,  ...,  0.0021, -0.0078, -0.0351],\n",
      "        [ 0.0078, -0.0367,  0.0216,  ...,  0.0190,  0.0154,  0.0182],\n",
      "        ...,\n",
      "        [ 0.0088, -0.0356, -0.0093,  ..., -0.0035, -0.0378,  0.0174],\n",
      "        [ 0.0286, -0.0163, -0.0032,  ..., -0.0294,  0.0107, -0.0054],\n",
      "        [-0.0419,  0.0150, -0.0441,  ..., -0.0063, -0.0226,  0.0426]],\n",
      "       device='cuda:0')\n",
      "backbone.fc2.bias tensor([ 2.2235e-02,  7.6670e-02, -5.2272e-02,  1.6604e-01,  4.1779e-02,\n",
      "         7.1970e-02, -1.8073e-02, -6.9437e-02,  5.9367e-02, -5.0352e-02,\n",
      "        -5.3092e-02,  4.1917e-01, -1.4884e-01,  1.6081e-01, -9.0833e-02,\n",
      "         9.8247e-02,  4.2433e-02,  5.0005e-02,  4.8892e-02,  1.4896e-02,\n",
      "         2.7583e-01,  4.1510e-02,  2.2982e-02,  2.7098e-02,  2.7329e-02,\n",
      "         1.6736e-01, -1.2581e-02,  3.3959e-01,  2.2251e-01,  5.2424e-02,\n",
      "        -6.5695e-03, -4.7980e-02,  1.5224e-02, -7.5884e-03,  3.8003e-01,\n",
      "         1.4735e-01, -1.0440e-01, -3.7983e-04,  2.8747e-02,  1.1161e-01,\n",
      "         4.6566e-03, -4.3280e-02, -5.7259e-02,  1.9595e-01,  1.6206e-01,\n",
      "        -5.0940e-02,  5.1605e-02,  2.9308e-03,  3.2967e-01,  5.6383e-02,\n",
      "         9.5528e-02,  9.3448e-02,  2.4844e-01,  1.1205e-01,  3.3955e-02,\n",
      "         7.6816e-02, -5.1098e-02,  1.5359e-01,  1.9143e-01, -5.2586e-02,\n",
      "        -3.9421e-02,  1.0330e-01,  5.6506e-02,  8.5996e-03,  2.2900e-02,\n",
      "        -7.5960e-02, -6.0535e-03, -3.9494e-02,  4.5614e-02, -1.1315e-02,\n",
      "        -2.6265e-01, -1.0809e-02, -5.3568e-02, -7.8606e-02, -9.3646e-02,\n",
      "        -1.2303e-02, -5.3088e-02,  7.8253e-02, -6.0930e-03,  7.6008e-02,\n",
      "        -1.6366e-01, -6.7383e-02,  8.9890e-02,  3.4674e-01,  8.7348e-02,\n",
      "         3.2267e-02,  4.8242e-02,  7.3604e-02,  5.0477e-03,  1.2064e-01,\n",
      "         5.5376e-02,  2.5161e-01,  7.9279e-02, -6.5042e-02,  2.1425e-01,\n",
      "         1.0392e-01, -5.5712e-03,  4.6142e-02, -7.3249e-02,  1.6412e-02,\n",
      "         1.1994e-01,  1.0983e-01,  1.7224e-01, -6.0765e-02, -2.2730e-01,\n",
      "         1.5271e-01, -1.2613e-01,  3.5430e-01, -6.1203e-02, -7.3263e-02,\n",
      "         2.8403e-01, -5.5133e-02, -6.9031e-02,  5.0785e-02,  1.0133e-01,\n",
      "         2.0354e-01, -7.2814e-03, -7.9656e-02,  1.5357e-03,  1.3767e-02,\n",
      "         2.8760e-02,  5.7170e-02,  3.4530e-01,  6.8735e-02,  2.2658e-01,\n",
      "        -5.3982e-02,  6.1484e-02,  9.7119e-02,  2.4516e-02,  1.3259e-01,\n",
      "         8.8712e-02,  9.1972e-02, -9.2534e-02, -8.7824e-03,  1.5042e-01,\n",
      "         5.7558e-02, -4.0647e-03, -4.2491e-02, -1.5635e-01,  1.3188e-01,\n",
      "        -6.7283e-02,  8.6926e-02,  1.7198e-02,  5.8080e-02,  1.5150e-01,\n",
      "        -1.3863e-01,  2.5204e-02, -5.0488e-02,  1.3494e-01, -1.0234e-01,\n",
      "         2.9956e-01,  1.5260e-01,  1.6082e-01,  1.1281e-01,  1.9177e-01,\n",
      "         2.2827e-01,  1.3087e-01,  2.7298e-01,  2.4401e-01,  1.2574e-01,\n",
      "         2.0462e-02, -3.6366e-02,  6.6913e-02,  3.2380e-01,  8.5432e-02,\n",
      "         5.1366e-02,  2.5517e-02,  1.0588e-01,  1.5993e-01,  1.2757e-01,\n",
      "         2.6008e-03, -8.0412e-02,  2.7120e-02,  4.1634e-02,  5.8695e-02,\n",
      "         9.3604e-02,  3.8915e-02,  8.7244e-02,  1.7616e-02,  1.3592e-01,\n",
      "         9.9386e-02,  7.9139e-02,  8.2508e-02,  1.4061e-01,  2.0682e-01,\n",
      "         1.1344e-01, -2.5056e-02, -7.7692e-03,  7.4392e-02, -1.1295e-01,\n",
      "        -6.6644e-02,  1.7977e-01,  1.4612e-01,  7.9537e-03,  5.1846e-02,\n",
      "         2.1735e-01,  8.4859e-02, -9.2045e-02, -1.8437e-02, -4.7302e-02,\n",
      "         1.0262e-02, -8.7586e-02,  1.3628e-01,  1.7144e-01,  4.1412e-03,\n",
      "         1.3448e-01,  2.4962e-02, -2.5638e-02,  6.1270e-02,  1.6150e-01,\n",
      "         2.5091e-01, -8.2078e-02, -3.8459e-03,  2.2666e-01,  8.4416e-02,\n",
      "        -2.0551e-01, -6.7338e-02, -5.3913e-02, -4.1348e-02, -1.8912e-03,\n",
      "         2.8196e-02,  3.3495e-02,  2.0482e-03,  1.2670e-01,  9.5421e-02,\n",
      "         4.3713e-02,  2.4827e-01,  8.7651e-02,  9.9170e-02,  9.2193e-02,\n",
      "        -1.4785e-02,  1.1277e-01, -6.2995e-02,  1.7785e-01, -3.8633e-02,\n",
      "         3.4161e-01,  5.9351e-02,  1.2875e-01,  4.4934e-02, -3.5770e-03,\n",
      "        -2.7403e-02,  2.1773e-02,  8.2861e-02,  1.1574e-01,  6.1752e-02,\n",
      "         2.0536e-01, -6.5866e-02,  2.9721e-01,  6.4449e-02, -2.6913e-02,\n",
      "        -7.2914e-02,  1.3111e-01,  2.7779e-03, -5.3785e-02,  6.4482e-03,\n",
      "         2.4516e-02], device='cuda:0')\n",
      "classifier.weight tensor([[ 0.0583,  0.1205, -0.0632,  ..., -0.0428, -0.0245, -0.0574],\n",
      "        [-0.0658,  0.0907,  0.0077,  ...,  0.0874,  0.0734,  0.1413],\n",
      "        [-0.0212, -0.0141,  0.0215,  ..., -0.0986, -0.0211,  0.0350],\n",
      "        [-0.0989, -0.0154, -0.0079,  ..., -0.0411, -0.1017, -0.1175],\n",
      "        [-0.0045, -0.2205, -0.0393,  ...,  0.0444,  0.0094,  0.1385]],\n",
      "       device='cuda:0')\n",
      "classifier.bias tensor([-0.2846, -0.2044,  0.0620,  0.1427,  0.2879], device='cuda:0')\n"
     ]
    }
   ],
   "source": [
    "# print parameters in model_jtt\n",
    "for name, param in model.named_parameters():\n",
    "    if param.requires_grad:\n",
    "        print(name, param.data)"
   ]
  },
  {
   "cell_type": "code",
   "execution_count": 28,
   "metadata": {},
   "outputs": [
    {
     "name": "stderr",
     "output_type": "stream",
     "text": [
      "Evaluating group-wise accuracy:   0%|          | 0/25 [00:00<?, ?it/s]"
     ]
    },
    {
     "name": "stderr",
     "output_type": "stream",
     "text": [
      "Evaluating group-wise accuracy:   4%|▍         | 1/25 [00:00<00:08,  2.70it/s]"
     ]
    },
    {
     "name": "stdout",
     "output_type": "stream",
     "text": [
      "Group (0, 0) Accuracy: 99.76359338061465\n"
     ]
    },
    {
     "name": "stderr",
     "output_type": "stream",
     "text": [
      "Evaluating group-wise accuracy:   8%|▊         | 2/25 [00:00<00:08,  2.75it/s]"
     ]
    },
    {
     "name": "stdout",
     "output_type": "stream",
     "text": [
      "Group (0, 1) Accuracy: 53.90070921985816\n"
     ]
    },
    {
     "name": "stderr",
     "output_type": "stream",
     "text": [
      "Evaluating group-wise accuracy:  12%|█▏        | 3/25 [00:01<00:07,  2.77it/s]"
     ]
    },
    {
     "name": "stdout",
     "output_type": "stream",
     "text": [
      "Group (0, 2) Accuracy: 66.19385342789599\n"
     ]
    },
    {
     "name": "stderr",
     "output_type": "stream",
     "text": [
      "Evaluating group-wise accuracy:  16%|█▌        | 4/25 [00:01<00:07,  2.71it/s]"
     ]
    },
    {
     "name": "stdout",
     "output_type": "stream",
     "text": [
      "Group (0, 3) Accuracy: 78.01418439716312\n"
     ]
    },
    {
     "name": "stderr",
     "output_type": "stream",
     "text": [
      "Evaluating group-wise accuracy:  20%|██        | 5/25 [00:01<00:07,  2.71it/s]"
     ]
    },
    {
     "name": "stdout",
     "output_type": "stream",
     "text": [
      "Group (0, 4) Accuracy: 59.1016548463357\n"
     ]
    },
    {
     "name": "stderr",
     "output_type": "stream",
     "text": [
      "Evaluating group-wise accuracy:  24%|██▍       | 6/25 [00:02<00:07,  2.71it/s]"
     ]
    },
    {
     "name": "stdout",
     "output_type": "stream",
     "text": [
      "Group (1, 0) Accuracy: 58.924205378973106\n"
     ]
    },
    {
     "name": "stderr",
     "output_type": "stream",
     "text": [
      "Evaluating group-wise accuracy:  28%|██▊       | 7/25 [00:02<00:06,  2.70it/s]"
     ]
    },
    {
     "name": "stdout",
     "output_type": "stream",
     "text": [
      "Group (1, 1) Accuracy: 100.0\n"
     ]
    },
    {
     "name": "stderr",
     "output_type": "stream",
     "text": [
      "Evaluating group-wise accuracy:  32%|███▏      | 8/25 [00:02<00:06,  2.71it/s]"
     ]
    },
    {
     "name": "stdout",
     "output_type": "stream",
     "text": [
      "Group (1, 2) Accuracy: 23.529411764705884\n"
     ]
    },
    {
     "name": "stderr",
     "output_type": "stream",
     "text": [
      "Evaluating group-wise accuracy:  36%|███▌      | 9/25 [00:03<00:05,  2.69it/s]"
     ]
    },
    {
     "name": "stdout",
     "output_type": "stream",
     "text": [
      "Group (1, 3) Accuracy: 34.068627450980394\n"
     ]
    },
    {
     "name": "stderr",
     "output_type": "stream",
     "text": [
      "Evaluating group-wise accuracy:  40%|████      | 10/25 [00:03<00:05,  2.68it/s]"
     ]
    },
    {
     "name": "stdout",
     "output_type": "stream",
     "text": [
      "Group (1, 4) Accuracy: 7.598039215686274\n"
     ]
    },
    {
     "name": "stderr",
     "output_type": "stream",
     "text": [
      "Evaluating group-wise accuracy:  44%|████▍     | 11/25 [00:04<00:05,  2.69it/s]"
     ]
    },
    {
     "name": "stdout",
     "output_type": "stream",
     "text": [
      "Group (2, 0) Accuracy: 33.86666666666667\n"
     ]
    },
    {
     "name": "stderr",
     "output_type": "stream",
     "text": [
      "Evaluating group-wise accuracy:  48%|████▊     | 12/25 [00:04<00:04,  2.66it/s]"
     ]
    },
    {
     "name": "stdout",
     "output_type": "stream",
     "text": [
      "Group (2, 1) Accuracy: 30.666666666666668\n"
     ]
    },
    {
     "name": "stderr",
     "output_type": "stream",
     "text": [
      "Evaluating group-wise accuracy:  52%|█████▏    | 13/25 [00:04<00:04,  2.68it/s]"
     ]
    },
    {
     "name": "stdout",
     "output_type": "stream",
     "text": [
      "Group (2, 2) Accuracy: 99.46666666666667\n"
     ]
    },
    {
     "name": "stderr",
     "output_type": "stream",
     "text": [
      "Evaluating group-wise accuracy:  56%|█████▌    | 14/25 [00:05<00:04,  2.69it/s]"
     ]
    },
    {
     "name": "stdout",
     "output_type": "stream",
     "text": [
      "Group (2, 3) Accuracy: 9.066666666666666\n"
     ]
    },
    {
     "name": "stderr",
     "output_type": "stream",
     "text": [
      "Evaluating group-wise accuracy:  60%|██████    | 15/25 [00:05<00:03,  2.71it/s]"
     ]
    },
    {
     "name": "stdout",
     "output_type": "stream",
     "text": [
      "Group (2, 4) Accuracy: 0.0\n"
     ]
    },
    {
     "name": "stderr",
     "output_type": "stream",
     "text": [
      "Evaluating group-wise accuracy:  64%|██████▍   | 16/25 [00:05<00:03,  2.73it/s]"
     ]
    },
    {
     "name": "stdout",
     "output_type": "stream",
     "text": [
      "Group (3, 0) Accuracy: 62.311557788944725\n"
     ]
    },
    {
     "name": "stderr",
     "output_type": "stream",
     "text": [
      "Evaluating group-wise accuracy:  68%|██████▊   | 17/25 [00:06<00:02,  2.71it/s]"
     ]
    },
    {
     "name": "stdout",
     "output_type": "stream",
     "text": [
      "Group (3, 1) Accuracy: 22.670025188916878\n"
     ]
    },
    {
     "name": "stderr",
     "output_type": "stream",
     "text": [
      "Evaluating group-wise accuracy:  72%|███████▏  | 18/25 [00:06<00:02,  2.72it/s]"
     ]
    },
    {
     "name": "stdout",
     "output_type": "stream",
     "text": [
      "Group (3, 2) Accuracy: 22.418136020151135\n"
     ]
    },
    {
     "name": "stderr",
     "output_type": "stream",
     "text": [
      "Evaluating group-wise accuracy:  76%|███████▌  | 19/25 [00:07<00:02,  2.73it/s]"
     ]
    },
    {
     "name": "stdout",
     "output_type": "stream",
     "text": [
      "Group (3, 3) Accuracy: 99.24433249370277\n"
     ]
    },
    {
     "name": "stderr",
     "output_type": "stream",
     "text": [
      "Evaluating group-wise accuracy:  80%|████████  | 20/25 [00:07<00:01,  2.73it/s]"
     ]
    },
    {
     "name": "stdout",
     "output_type": "stream",
     "text": [
      "Group (3, 4) Accuracy: 14.6095717884131\n"
     ]
    },
    {
     "name": "stderr",
     "output_type": "stream",
     "text": [
      "Evaluating group-wise accuracy:  84%|████████▍ | 21/25 [00:07<00:01,  2.73it/s]"
     ]
    },
    {
     "name": "stdout",
     "output_type": "stream",
     "text": [
      "Group (4, 0) Accuracy: 65.4911838790932\n"
     ]
    },
    {
     "name": "stderr",
     "output_type": "stream",
     "text": [
      "Evaluating group-wise accuracy:  88%|████████▊ | 22/25 [00:08<00:01,  2.72it/s]"
     ]
    },
    {
     "name": "stdout",
     "output_type": "stream",
     "text": [
      "Group (4, 1) Accuracy: 7.5566750629722925\n"
     ]
    },
    {
     "name": "stderr",
     "output_type": "stream",
     "text": [
      "Evaluating group-wise accuracy:  92%|█████████▏| 23/25 [00:08<00:00,  2.70it/s]"
     ]
    },
    {
     "name": "stdout",
     "output_type": "stream",
     "text": [
      "Group (4, 2) Accuracy: 0.0\n"
     ]
    },
    {
     "name": "stderr",
     "output_type": "stream",
     "text": [
      "Evaluating group-wise accuracy:  96%|█████████▌| 24/25 [00:08<00:00,  2.72it/s]"
     ]
    },
    {
     "name": "stdout",
     "output_type": "stream",
     "text": [
      "Group (4, 3) Accuracy: 24.494949494949495\n"
     ]
    },
    {
     "name": "stderr",
     "output_type": "stream",
     "text": [
      "Evaluating group-wise accuracy: 100%|██████████| 25/25 [00:09<00:00,  2.71it/s]"
     ]
    },
    {
     "name": "stdout",
     "output_type": "stream",
     "text": [
      "Group (4, 4) Accuracy: 100.0\n"
     ]
    },
    {
     "name": "stderr",
     "output_type": "stream",
     "text": [
      "\n"
     ]
    },
    {
     "data": {
      "text/plain": [
       "{(0, 0): 99.76359338061465,\n",
       " (0, 1): 53.90070921985816,\n",
       " (0, 2): 66.19385342789599,\n",
       " (0, 3): 78.01418439716312,\n",
       " (0, 4): 59.1016548463357,\n",
       " (1, 0): 58.924205378973106,\n",
       " (1, 1): 100.0,\n",
       " (1, 2): 23.529411764705884,\n",
       " (1, 3): 34.068627450980394,\n",
       " (1, 4): 7.598039215686274,\n",
       " (2, 0): 33.86666666666667,\n",
       " (2, 1): 30.666666666666668,\n",
       " (2, 2): 99.46666666666667,\n",
       " (2, 3): 9.066666666666666,\n",
       " (2, 4): 0.0,\n",
       " (3, 0): 62.311557788944725,\n",
       " (3, 1): 22.670025188916878,\n",
       " (3, 2): 22.418136020151135,\n",
       " (3, 3): 99.24433249370277,\n",
       " (3, 4): 14.6095717884131,\n",
       " (4, 0): 65.4911838790932,\n",
       " (4, 1): 7.5566750629722925,\n",
       " (4, 2): 0.0,\n",
       " (4, 3): 24.494949494949495,\n",
       " (4, 4): 100.0}"
      ]
     },
     "execution_count": 28,
     "metadata": {},
     "output_type": "execute_result"
    }
   ],
   "source": [
    "from spuco.evaluate import Evaluator\n",
    "\n",
    "evaluator = Evaluator(\n",
    "    testset=testset,\n",
    "    group_partition=testset.group_partition,\n",
    "    group_weights=trainset.group_weights,\n",
    "    batch_size=64,\n",
    "    model=model_jtt,\n",
    "    device=device,\n",
    "    verbose=True\n",
    ")\n",
    "evaluator.evaluate()"
   ]
  },
  {
   "cell_type": "code",
   "execution_count": 21,
   "metadata": {},
   "outputs": [
    {
     "name": "stdout",
     "output_type": "stream",
     "text": [
      "(0, 0) 46353\n",
      "(0, 1) 1651\n"
     ]
    }
   ],
   "source": [
    "\n",
    "for group, members in jtt_group_partition.items():\n",
    "    print(group, len(members))"
   ]
  },
  {
   "cell_type": "code",
   "execution_count": 20,
   "metadata": {},
   "outputs": [
    {
     "name": "stdout",
     "output_type": "stream",
     "text": [
      "(0, 0) 45672\n",
      "(0, 1) 2332\n"
     ]
    }
   ],
   "source": [
    "fgt_group_partition.keys()\n",
    "\n",
    "for group, members in fgt_group_partition.items():\n",
    "    print(group, len(members))"
   ]
  },
  {
   "cell_type": "code",
   "execution_count": 24,
   "metadata": {},
   "outputs": [
    {
     "name": "stderr",
     "output_type": "stream",
     "text": [
      "Epoch 0:   0%|          | 0/1428 [00:00<?, ?batch/s]"
     ]
    },
    {
     "name": "stderr",
     "output_type": "stream",
     "text": [
      "Epoch 0: 100%|██████████| 1428/1428 [00:06<00:00, 219.30batch/s, accuracy=62.5%, loss=1.7]     \n",
      "Epoch 1: 100%|██████████| 1428/1428 [00:06<00:00, 222.76batch/s, accuracy=68.75%, loss=0.954]  \n",
      "Epoch 2: 100%|██████████| 1428/1428 [00:06<00:00, 215.42batch/s, accuracy=50.0%, loss=1.83]    \n",
      "Epoch 3: 100%|██████████| 1428/1428 [00:06<00:00, 215.18batch/s, accuracy=87.5%, loss=0.465]   \n",
      "Epoch 4: 100%|██████████| 1428/1428 [00:06<00:00, 220.72batch/s, accuracy=50.0%, loss=1.38]    \n"
     ]
    }
   ],
   "source": [
    "from torch.optim import SGD\n",
    "from spuco.robust_train import UpSampleERM, DownSampleERM, CustomSampleERM\n",
    "\n",
    "fgt_train = UpSampleERM(\n",
    "    model=model_fgt,\n",
    "    num_epochs=5,\n",
    "    trainset=trainset,\n",
    "    batch_size=64,\n",
    "    group_partition=fgt_group_partition,\n",
    "    optimizer=SGD(model.parameters(), lr=1e-2, momentum=0.9, nesterov=False),\n",
    "    device=device,\n",
    "    verbose=True\n",
    ")\n",
    "fgt_train.train()"
   ]
  },
  {
   "cell_type": "code",
   "execution_count": 25,
   "metadata": {},
   "outputs": [
    {
     "name": "stderr",
     "output_type": "stream",
     "text": [
      "Evaluating group-wise accuracy:   0%|          | 0/25 [00:00<?, ?it/s]"
     ]
    },
    {
     "name": "stderr",
     "output_type": "stream",
     "text": [
      "Evaluating group-wise accuracy:   4%|▍         | 1/25 [00:00<00:08,  2.87it/s]"
     ]
    },
    {
     "name": "stdout",
     "output_type": "stream",
     "text": [
      "Group (0, 0) Accuracy: 99.76359338061465\n"
     ]
    },
    {
     "name": "stderr",
     "output_type": "stream",
     "text": [
      "Evaluating group-wise accuracy:   8%|▊         | 2/25 [00:00<00:08,  2.87it/s]"
     ]
    },
    {
     "name": "stdout",
     "output_type": "stream",
     "text": [
      "Group (0, 1) Accuracy: 53.90070921985816\n"
     ]
    },
    {
     "name": "stderr",
     "output_type": "stream",
     "text": [
      "Evaluating group-wise accuracy:  12%|█▏        | 3/25 [00:01<00:07,  2.82it/s]"
     ]
    },
    {
     "name": "stdout",
     "output_type": "stream",
     "text": [
      "Group (0, 2) Accuracy: 66.19385342789599\n"
     ]
    },
    {
     "name": "stderr",
     "output_type": "stream",
     "text": [
      "Evaluating group-wise accuracy:  16%|█▌        | 4/25 [00:01<00:07,  2.78it/s]"
     ]
    },
    {
     "name": "stdout",
     "output_type": "stream",
     "text": [
      "Group (0, 3) Accuracy: 78.01418439716312\n"
     ]
    },
    {
     "name": "stderr",
     "output_type": "stream",
     "text": [
      "Evaluating group-wise accuracy:  20%|██        | 5/25 [00:01<00:07,  2.77it/s]"
     ]
    },
    {
     "name": "stdout",
     "output_type": "stream",
     "text": [
      "Group (0, 4) Accuracy: 59.1016548463357\n"
     ]
    },
    {
     "name": "stderr",
     "output_type": "stream",
     "text": [
      "Evaluating group-wise accuracy:  24%|██▍       | 6/25 [00:02<00:06,  2.75it/s]"
     ]
    },
    {
     "name": "stdout",
     "output_type": "stream",
     "text": [
      "Group (1, 0) Accuracy: 58.924205378973106\n"
     ]
    },
    {
     "name": "stderr",
     "output_type": "stream",
     "text": [
      "Evaluating group-wise accuracy:  28%|██▊       | 7/25 [00:02<00:06,  2.70it/s]"
     ]
    },
    {
     "name": "stdout",
     "output_type": "stream",
     "text": [
      "Group (1, 1) Accuracy: 100.0\n"
     ]
    },
    {
     "name": "stderr",
     "output_type": "stream",
     "text": [
      "Evaluating group-wise accuracy:  32%|███▏      | 8/25 [00:02<00:06,  2.73it/s]"
     ]
    },
    {
     "name": "stdout",
     "output_type": "stream",
     "text": [
      "Group (1, 2) Accuracy: 23.529411764705884\n"
     ]
    },
    {
     "name": "stderr",
     "output_type": "stream",
     "text": [
      "Evaluating group-wise accuracy:  36%|███▌      | 9/25 [00:03<00:05,  2.70it/s]"
     ]
    },
    {
     "name": "stdout",
     "output_type": "stream",
     "text": [
      "Group (1, 3) Accuracy: 34.068627450980394\n"
     ]
    },
    {
     "name": "stderr",
     "output_type": "stream",
     "text": [
      "Evaluating group-wise accuracy:  40%|████      | 10/25 [00:03<00:05,  2.72it/s]"
     ]
    },
    {
     "name": "stdout",
     "output_type": "stream",
     "text": [
      "Group (1, 4) Accuracy: 7.598039215686274\n"
     ]
    },
    {
     "name": "stderr",
     "output_type": "stream",
     "text": [
      "Evaluating group-wise accuracy:  44%|████▍     | 11/25 [00:04<00:05,  2.72it/s]"
     ]
    },
    {
     "name": "stdout",
     "output_type": "stream",
     "text": [
      "Group (2, 0) Accuracy: 33.86666666666667\n"
     ]
    },
    {
     "name": "stderr",
     "output_type": "stream",
     "text": [
      "Evaluating group-wise accuracy:  48%|████▊     | 12/25 [00:04<00:04,  2.71it/s]"
     ]
    },
    {
     "name": "stdout",
     "output_type": "stream",
     "text": [
      "Group (2, 1) Accuracy: 30.666666666666668\n"
     ]
    },
    {
     "name": "stderr",
     "output_type": "stream",
     "text": [
      "Evaluating group-wise accuracy:  52%|█████▏    | 13/25 [00:04<00:04,  2.73it/s]"
     ]
    },
    {
     "name": "stdout",
     "output_type": "stream",
     "text": [
      "Group (2, 2) Accuracy: 99.46666666666667\n"
     ]
    },
    {
     "name": "stderr",
     "output_type": "stream",
     "text": [
      "Evaluating group-wise accuracy:  56%|█████▌    | 14/25 [00:05<00:04,  2.72it/s]"
     ]
    },
    {
     "name": "stdout",
     "output_type": "stream",
     "text": [
      "Group (2, 3) Accuracy: 9.066666666666666\n"
     ]
    },
    {
     "name": "stderr",
     "output_type": "stream",
     "text": [
      "Evaluating group-wise accuracy:  60%|██████    | 15/25 [00:05<00:03,  2.70it/s]"
     ]
    },
    {
     "name": "stdout",
     "output_type": "stream",
     "text": [
      "Group (2, 4) Accuracy: 0.0\n"
     ]
    },
    {
     "name": "stderr",
     "output_type": "stream",
     "text": [
      "Evaluating group-wise accuracy:  64%|██████▍   | 16/25 [00:05<00:03,  2.68it/s]"
     ]
    },
    {
     "name": "stdout",
     "output_type": "stream",
     "text": [
      "Group (3, 0) Accuracy: 62.311557788944725\n"
     ]
    },
    {
     "name": "stderr",
     "output_type": "stream",
     "text": [
      "Evaluating group-wise accuracy:  68%|██████▊   | 17/25 [00:06<00:02,  2.68it/s]"
     ]
    },
    {
     "name": "stdout",
     "output_type": "stream",
     "text": [
      "Group (3, 1) Accuracy: 22.670025188916878\n"
     ]
    },
    {
     "name": "stderr",
     "output_type": "stream",
     "text": [
      "Evaluating group-wise accuracy:  72%|███████▏  | 18/25 [00:06<00:02,  2.68it/s]"
     ]
    },
    {
     "name": "stdout",
     "output_type": "stream",
     "text": [
      "Group (3, 2) Accuracy: 22.418136020151135\n"
     ]
    },
    {
     "name": "stderr",
     "output_type": "stream",
     "text": [
      "Evaluating group-wise accuracy:  76%|███████▌  | 19/25 [00:06<00:02,  2.68it/s]"
     ]
    },
    {
     "name": "stdout",
     "output_type": "stream",
     "text": [
      "Group (3, 3) Accuracy: 99.24433249370277\n"
     ]
    },
    {
     "name": "stderr",
     "output_type": "stream",
     "text": [
      "Evaluating group-wise accuracy:  80%|████████  | 20/25 [00:07<00:01,  2.70it/s]"
     ]
    },
    {
     "name": "stdout",
     "output_type": "stream",
     "text": [
      "Group (3, 4) Accuracy: 14.6095717884131\n"
     ]
    },
    {
     "name": "stderr",
     "output_type": "stream",
     "text": [
      "Evaluating group-wise accuracy:  84%|████████▍ | 21/25 [00:07<00:01,  2.71it/s]"
     ]
    },
    {
     "name": "stdout",
     "output_type": "stream",
     "text": [
      "Group (4, 0) Accuracy: 65.4911838790932\n"
     ]
    },
    {
     "name": "stderr",
     "output_type": "stream",
     "text": [
      "Evaluating group-wise accuracy:  88%|████████▊ | 22/25 [00:08<00:01,  2.71it/s]"
     ]
    },
    {
     "name": "stdout",
     "output_type": "stream",
     "text": [
      "Group (4, 1) Accuracy: 7.5566750629722925\n"
     ]
    },
    {
     "name": "stderr",
     "output_type": "stream",
     "text": [
      "Evaluating group-wise accuracy:  92%|█████████▏| 23/25 [00:08<00:00,  2.72it/s]"
     ]
    },
    {
     "name": "stdout",
     "output_type": "stream",
     "text": [
      "Group (4, 2) Accuracy: 0.0\n"
     ]
    },
    {
     "name": "stderr",
     "output_type": "stream",
     "text": [
      "Evaluating group-wise accuracy:  96%|█████████▌| 24/25 [00:08<00:00,  2.72it/s]"
     ]
    },
    {
     "name": "stdout",
     "output_type": "stream",
     "text": [
      "Group (4, 3) Accuracy: 24.494949494949495\n"
     ]
    },
    {
     "name": "stderr",
     "output_type": "stream",
     "text": [
      "Evaluating group-wise accuracy: 100%|██████████| 25/25 [00:09<00:00,  2.72it/s]"
     ]
    },
    {
     "name": "stdout",
     "output_type": "stream",
     "text": [
      "Group (4, 4) Accuracy: 100.0\n"
     ]
    },
    {
     "name": "stderr",
     "output_type": "stream",
     "text": [
      "\n"
     ]
    },
    {
     "data": {
      "text/plain": [
       "{(0, 0): 99.76359338061465,\n",
       " (0, 1): 53.90070921985816,\n",
       " (0, 2): 66.19385342789599,\n",
       " (0, 3): 78.01418439716312,\n",
       " (0, 4): 59.1016548463357,\n",
       " (1, 0): 58.924205378973106,\n",
       " (1, 1): 100.0,\n",
       " (1, 2): 23.529411764705884,\n",
       " (1, 3): 34.068627450980394,\n",
       " (1, 4): 7.598039215686274,\n",
       " (2, 0): 33.86666666666667,\n",
       " (2, 1): 30.666666666666668,\n",
       " (2, 2): 99.46666666666667,\n",
       " (2, 3): 9.066666666666666,\n",
       " (2, 4): 0.0,\n",
       " (3, 0): 62.311557788944725,\n",
       " (3, 1): 22.670025188916878,\n",
       " (3, 2): 22.418136020151135,\n",
       " (3, 3): 99.24433249370277,\n",
       " (3, 4): 14.6095717884131,\n",
       " (4, 0): 65.4911838790932,\n",
       " (4, 1): 7.5566750629722925,\n",
       " (4, 2): 0.0,\n",
       " (4, 3): 24.494949494949495,\n",
       " (4, 4): 100.0}"
      ]
     },
     "execution_count": 25,
     "metadata": {},
     "output_type": "execute_result"
    }
   ],
   "source": [
    "from spuco.evaluate import Evaluator\n",
    "\n",
    "evaluator = Evaluator(\n",
    "    testset=testset,\n",
    "    group_partition=testset.group_partition,\n",
    "    group_weights=trainset.group_weights,\n",
    "    batch_size=64,\n",
    "    model=model_fgt,\n",
    "    device=device,\n",
    "    verbose=True\n",
    ")\n",
    "evaluator.evaluate()"
   ]
  },
  {
   "cell_type": "code",
   "execution_count": 49,
   "metadata": {},
   "outputs": [
    {
     "data": {
      "text/plain": [
       "95.97156158648662"
      ]
     },
     "execution_count": 49,
     "metadata": {},
     "output_type": "execute_result"
    }
   ],
   "source": [
    "evaluator.average_accuracy"
   ]
  },
  {
   "cell_type": "code",
   "execution_count": null,
   "metadata": {},
   "outputs": [],
   "source": []
  }
 ],
 "metadata": {
  "kernelspec": {
   "display_name": "spuco",
   "language": "python",
   "name": "python3"
  },
  "language_info": {
   "codemirror_mode": {
    "name": "ipython",
    "version": 3
   },
   "file_extension": ".py",
   "mimetype": "text/x-python",
   "name": "python",
   "nbconvert_exporter": "python",
   "pygments_lexer": "ipython3",
   "version": "3.10.12"
  }
 },
 "nbformat": 4,
 "nbformat_minor": 2
}
